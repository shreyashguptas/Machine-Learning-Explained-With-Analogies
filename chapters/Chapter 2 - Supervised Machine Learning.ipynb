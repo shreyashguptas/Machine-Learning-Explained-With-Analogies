{
 "cells": [
  {
   "cell_type": "markdown",
   "metadata": {},
   "source": [
    "## Supervised Learning\n",
    "---\n",
    "### Setup\n",
    "* Find a prediction function, $h: x \\to y$ <br>\n",
    "* Given Training Set - ${(x^{(1)}, y^{(1)}), \\cdots, (x^{(n)}, y^{(n)})}$, $x^{(i)} \\in X$, $y^{(i)} \\in Y$<br>\n",
    "* Do: Find a good, $h: x \\to y$ (hypothesis)\n",
    "* if y is discrete, example of classfication problems\n",
    "* if y is contnuous, example of regression\n",
    "* When you look at new data, look through it. Figure out what is going on\n",
    "\n",
    "[Data](https://www.kaggle.com/competitions/house-prices-advanced-regression-techniques)\n",
    "| | Size | Bedroom | Lot Size | ... | Price |\n",
    "| -------- | ------- | -------- | -------- | -------- | -------- |\n",
    "| $X^{1}$ | 4 | 3 | aa | ... | x |\n",
    "\n",
    "How dow we represent $h(x)$<br>\n",
    "$ h(x) = \\theta _{0} + \\theta _{1}x_1 + \\cdots + \\theta _{d}x_{d}$ = $\\sum_{j = 0}^d \\theta _{j}x_{j}$\n",
    "\n",
    "Parameters, $\\theta = \\begin{bmatrix} \\theta _{0} \\\\ \\theta _{1} \\\\ \\theta _{2} \\\\ \\vdots \\\\ \\theta _{d} \\end{bmatrix}$\n",
    "Features, $X^{(1)} = \\begin{bmatrix} x_{0}^{(1)} \\\\ x_{1}^{(1)} \\\\ x_{2}^{(1)} \\\\ \\vdots \\\\ x_{d}^{(1)} \\end{bmatrix}$"
   ]
  },
  {
   "cell_type": "markdown",
   "metadata": {},
   "source": []
  }
 ],
 "metadata": {
  "language_info": {
   "name": "python"
  }
 },
 "nbformat": 4,
 "nbformat_minor": 2
}
