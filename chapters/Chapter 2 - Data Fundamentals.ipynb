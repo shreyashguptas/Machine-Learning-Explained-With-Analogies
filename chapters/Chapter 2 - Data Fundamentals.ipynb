{
 "cells": [
  {
   "cell_type": "markdown",
   "metadata": {},
   "source": [
    "# Chapter 2 - Data Fundamentals  \n",
    "---"
   ]
  },
  {
   "cell_type": "markdown",
   "metadata": {},
   "source": [
    "Chapter 2: Data Fundamentals\n",
    "Data Types and Structures\n",
    "Exploratory Data Analysis\n",
    "Data Preprocessing\n",
    "Feature Scaling\n",
    "Handling Missing Values\n",
    "Feature Selection\n",
    "Data Visualization"
   ]
  },
  {
   "cell_type": "markdown",
   "metadata": {},
   "source": []
  }
 ],
 "metadata": {
  "language_info": {
   "name": "python"
  }
 },
 "nbformat": 4,
 "nbformat_minor": 2
}
