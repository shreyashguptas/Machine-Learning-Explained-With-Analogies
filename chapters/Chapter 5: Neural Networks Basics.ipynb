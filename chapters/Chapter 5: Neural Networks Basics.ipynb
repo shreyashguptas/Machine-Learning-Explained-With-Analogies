{
 "cells": [
  {
   "cell_type": "markdown",
   "metadata": {},
   "source": [
    "<a href=\"https://colab.research.google.com/github/shreyashguptas/Machine-Learning-for-Dummies/blob/main/chapters/Chapter%20x%20-%20Introduction%20to%20Deep%20Learning.ipynb\" target=\"_parent\"><img src=\"https://colab.research.google.com/assets/colab-badge.svg\" alt=\"Open In Colab\"/></a>"
   ]
  },
  {
   "cell_type": "markdown",
   "metadata": {},
   "source": [
    "# DeepLearning Course\n",
    "----"
   ]
  },
  {
   "cell_type": "markdown",
   "metadata": {},
   "source": [
    "Course link: https://app.datacamp.com/learn/courses/introduction-to-deep-learning-with-pytorch"
   ]
  },
  {
   "cell_type": "markdown",
   "metadata": {},
   "source": [
    "> ### Note: The basic pre-requisites for this Deep Learning part is that you have gone through the Machine Learning notebook before doing Deep Learning."
   ]
  },
  {
   "cell_type": "code",
   "execution_count": 63,
   "metadata": {},
   "outputs": [],
   "source": [
    "# %pip install pandas numpy torch matplotlib"
   ]
  },
  {
   "cell_type": "markdown",
   "metadata": {},
   "source": [
    "### Neural Network Overview\n",
    "\n",
    "Here is how a very basic neural network looks like. It's inspired by the human brain and that's why we call it neurons and neural networks.\n",
    "\n",
    "![neural-network-overview](../images/neural-network-overview.png)"
   ]
  },
  {
   "cell_type": "markdown",
   "metadata": {},
   "source": [
    "### Importing the Torch Library\n",
    "---\n",
    "to import the torch library all you have to do is run the following code:"
   ]
  },
  {
   "cell_type": "code",
   "execution_count": 64,
   "metadata": {},
   "outputs": [],
   "source": [
    "import torch"
   ]
  },
  {
   "cell_type": "markdown",
   "metadata": {},
   "source": [
    "## Tensor Attributes\n",
    "\n",
    "### What are tensor attributes?\n",
    "Tensors are the basic building blocks of data in PyTorch. They are similar to arrays or matrices, but with some additional features that make them useful for deep learning tasks.\n",
    "\n",
    "Tensor as different attributes\n",
    "1. Tensor Shape\n",
    "2. Tensor Data Type\n",
    "3. Tensor Device"
   ]
  },
  {
   "cell_type": "markdown",
   "metadata": {},
   "source": [
    "### 1. Tensor Shape"
   ]
  },
  {
   "cell_type": "code",
   "execution_count": 65,
   "metadata": {},
   "outputs": [
    {
     "data": {
      "text/plain": [
       "torch.Size([2, 3])"
      ]
     },
     "execution_count": 65,
     "metadata": {},
     "output_type": "execute_result"
    }
   ],
   "source": [
    "Lst = [[1, 2, 3], [4, 5, 6]]\n",
    "tensor = torch.tensor(Lst)\n",
    "tensor.shape"
   ]
  },
  {
   "cell_type": "code",
   "execution_count": null,
   "metadata": {},
   "outputs": [],
   "source": []
  },
  {
   "cell_type": "markdown",
   "metadata": {},
   "source": [
    "### 2. Tensor Data Type\n",
    "\n",
    "PyTorch supports various data types for tensors, categorized as follows:\n",
    "\n",
    "Floating-point Types:\n",
    "• torch.float32 or torch.float: 32-bit floating-point\n",
    "• torch.float64 or torch.double: 64-bit floating-point\n",
    "• torch.float16 or torch.half: 16-bit floating-point\n",
    "• torch.bfloat16: Brain floating-point (optimized for machine learning)\n",
    "\n",
    "Integer Types:\n",
    "• torch.int8: 8-bit signed integer\n",
    "• torch.uint8: 8-bit unsigned integer\n",
    "• torch.int16 or torch.short: 16-bit signed integer\n",
    "• torch.int32 or torch.int: 32-bit signed integer\n",
    "• torch.int64 or torch.long: 64-bit signed integer\n",
    "\n",
    "Boolean Type:\n",
    "• torch.bool: Boolean (True or False)\n",
    "\n",
    "Complex Types:\n",
    "• torch.complex64: Complex number (32-bit float for real and imaginary parts)\n",
    "• torch.complex128 or torch.cdouble: Complex number (64-bit float for real and imaginary parts)\n"
   ]
  },
  {
   "cell_type": "code",
   "execution_count": 66,
   "metadata": {},
   "outputs": [
    {
     "data": {
      "text/plain": [
       "torch.int64"
      ]
     },
     "execution_count": 66,
     "metadata": {},
     "output_type": "execute_result"
    }
   ],
   "source": [
    "tensor.dtype"
   ]
  },
  {
   "cell_type": "markdown",
   "metadata": {},
   "source": [
    "### 3. Tensor Device\n",
    "\n",
    "When you run tensor.device on a PyTorch tensor, it returns the device where the tensor is stored. Common device types include:\n",
    "\n",
    "1. CPU: Tensor is in system memory, processed by the CPU.\n",
    "   Example: device(type='cpu')\n",
    "\n",
    "2. CUDA: Tensor is in GPU memory, processed by an NVIDIA GPU.\n",
    "   Examples:\n",
    "   - device(type='cuda')         # Current CUDA device\n",
    "   - device(type='cuda', index=0) # Specific CUDA device\n",
    "   - device(type='cuda:1')       # CUDA device 1\n",
    "\n",
    "3. MPS (Metal Performance Shaders): For Apple Silicon GPUs on macOS.\n",
    "   Example: device(type='mps')\n",
    "\n",
    "4. XLA: Used with PyTorch/XLA for TPU acceleration.\n",
    "   Example: device(type='xla')\n",
    "\n",
    "5. IPU: For Graphcore Intelligence Processing Units.\n",
    "   Example: device(type='ipu')\n",
    "\n",
    "6. XPU: For Intel GPUs.\n",
    "   Example: device(type='xpu')\n",
    "\n",
    "7. Meta: A special device type for operations not requiring actual computation.\n",
    "   Example: device(type='meta')\n",
    "\n",
    "Note: CPU and CUDA are the most common device types. The availability of other types \n",
    "depends on your hardware and PyTorch installation."
   ]
  },
  {
   "cell_type": "code",
   "execution_count": 67,
   "metadata": {},
   "outputs": [
    {
     "data": {
      "text/plain": [
       "device(type='cpu')"
      ]
     },
     "execution_count": 67,
     "metadata": {},
     "output_type": "execute_result"
    }
   ],
   "source": [
    "tensor.device"
   ]
  },
  {
   "cell_type": "markdown",
   "metadata": {},
   "source": [
    "## Creating our own Neural Network\n",
    "----\n",
    "![creating-neural-network-1](../images/creating-neural-network-1.png)"
   ]
  },
  {
   "cell_type": "code",
   "execution_count": 68,
   "metadata": {},
   "outputs": [],
   "source": [
    "import torch.nn as nn"
   ]
  },
  {
   "cell_type": "code",
   "execution_count": 69,
   "metadata": {},
   "outputs": [],
   "source": [
    "# Create input_tensor with three features\n",
    "input_tensor = torch.tensor(\n",
    "    [[0.342, 0.543, -0.4533]]\n",
    ")"
   ]
  },
  {
   "cell_type": "markdown",
   "metadata": {},
   "source": [
    "A linear layer takes an input, applied a linear function, and returns output.\n",
    "\n",
    "What happens in a linear layer is 'For input 'X', weights 'W0' and bias 'b0', the linear layer performs\n",
    "\n",
    "y0 = W0*X + b0"
   ]
  },
  {
   "cell_type": "markdown",
   "metadata": {},
   "source": [
    "In PyTorch: Output = W0 @ input + b0\n",
    "\n",
    "So when we call the nn.linear function below, it calls the Weights and Biases randomly so they are not yet useful. But we tune them in models so the output is meaningful."
   ]
  },
  {
   "cell_type": "code",
   "execution_count": 70,
   "metadata": {},
   "outputs": [],
   "source": [
    "# Define our first linear layer. in_features is the number of input layers and out_features is the number of output layers. Look at the image under 'Creating our own Neural Network'.\n",
    "linear_layer = nn.Linear(in_features=3, out_features=2)"
   ]
  },
  {
   "cell_type": "code",
   "execution_count": 71,
   "metadata": {},
   "outputs": [
    {
     "data": {
      "text/plain": [
       "tensor([[-0.0084,  0.1069]], grad_fn=<AddmmBackward0>)"
      ]
     },
     "execution_count": 71,
     "metadata": {},
     "output_type": "execute_result"
    }
   ],
   "source": [
    "# Pass input through linear layer\n",
    "output = linear_layer(input_tensor)\n",
    "\n",
    "output"
   ]
  },
  {
   "cell_type": "markdown",
   "metadata": {},
   "source": [
    "### Getting to know the linear layer operation\n",
    "\n",
    "- Each linear layer has a .weight and .bias\n",
    "- Each linear layer multiples its respective input with layer weights and adds biases\n",
    "- Even with multiple stacked linear layers, output still has linear relationship with input."
   ]
  },
  {
   "cell_type": "code",
   "execution_count": 72,
   "metadata": {},
   "outputs": [
    {
     "data": {
      "text/plain": [
       "Parameter containing:\n",
       "tensor([[-0.5330,  0.3063,  0.2679],\n",
       "        [ 0.3688,  0.0437, -0.2508]], requires_grad=True)"
      ]
     },
     "execution_count": 72,
     "metadata": {},
     "output_type": "execute_result"
    }
   ],
   "source": [
    "linear_layer.weight"
   ]
  },
  {
   "cell_type": "code",
   "execution_count": 73,
   "metadata": {},
   "outputs": [
    {
     "data": {
      "text/plain": [
       "Parameter containing:\n",
       "tensor([ 0.1290, -0.1566], requires_grad=True)"
      ]
     },
     "execution_count": 73,
     "metadata": {},
     "output_type": "execute_result"
    }
   ],
   "source": [
    "linear_layer.bias"
   ]
  },
  {
   "cell_type": "markdown",
   "metadata": {},
   "source": [
    "### Lets visualize the Linear_layers with their weights and biases\n",
    "# Ignore the code block below, it is just for visualization"
   ]
  },
  {
   "cell_type": "code",
   "execution_count": 74,
   "metadata": {},
   "outputs": [
    {
     "name": "stderr",
     "output_type": "stream",
     "text": [
      "/var/folders/wm/znp8c4pd0r72qm3gq7rpvwn40000gn/T/ipykernel_1075/4206505998.py:41: UserWarning: This figure includes Axes that are not compatible with tight_layout, so results might be incorrect.\n",
      "  plt.tight_layout()\n"
     ]
    },
    {
     "data": {
      "image/png": "[encoded data removed]",
      "text/plain": [
       "<Figure size 1200x600 with 1 Axes>"
      ]
     },
     "metadata": {},
     "output_type": "display_data"
    },
    {
     "name": "stdout",
     "output_type": "stream",
     "text": [
      "Output tensor:\n",
      "tensor([[-0.0084,  0.1069]], grad_fn=<AddmmBackward0>)\n"
     ]
    }
   ],
   "source": [
    "import matplotlib.pyplot as plt\n",
    "import networkx as nx\n",
    "\n",
    "def visualize_linear_layer(linear_layer, input_tensor, output_tensor):\n",
    "    # Create a directed graph\n",
    "    G = nx.DiGraph()\n",
    "\n",
    "    # Add input nodes\n",
    "    for i in range(input_tensor.shape[1]):\n",
    "        G.add_node(f\"Input {i+1}\", pos=(0, i))\n",
    "\n",
    "    # Add output nodes\n",
    "    for i in range(output_tensor.shape[1]):\n",
    "        G.add_node(f\"Output {i+1}\", pos=(2, i))\n",
    "\n",
    "    # Add edges with weights\n",
    "    for i in range(input_tensor.shape[1]):\n",
    "        for j in range(output_tensor.shape[1]):\n",
    "            weight = linear_layer.weight[j, i].item()\n",
    "            G.add_edge(f\"Input {i+1}\", f\"Output {j+1}\", weight=round(weight, 4))\n",
    "\n",
    "    # Set up the plot\n",
    "    plt.figure(figsize=(12, 6))\n",
    "    pos = nx.get_node_attributes(G, 'pos')\n",
    "\n",
    "    # Draw the graph\n",
    "    nx.draw(G, pos, with_labels=True, node_color='lightblue', \n",
    "            node_size=3000, font_size=10, font_weight='bold')\n",
    "\n",
    "    # Add edge labels (weights) with adjusted positions\n",
    "    edge_labels = nx.get_edge_attributes(G, 'weight')\n",
    "    nx.draw_networkx_edge_labels(G, pos, edge_labels=edge_labels, label_pos=0.3)\n",
    "\n",
    "    # Add bias labels\n",
    "    for i, bias in enumerate(linear_layer.bias):\n",
    "        plt.text(2.1, i, f'Bias: {bias.item():.4f}', \n",
    "                 fontsize=9, verticalalignment='center')\n",
    "\n",
    "    plt.title(\"Linear Layer Visualization\")\n",
    "    plt.axis('off')\n",
    "    plt.tight_layout()\n",
    "    plt.show()\n",
    "\n",
    "# Visualize the linear layer\n",
    "visualize_linear_layer(linear_layer, input_tensor, output)\n",
    "\n",
    "# Print the output tensor\n",
    "print(\"Output tensor:\")\n",
    "print(output)"
   ]
  },
  {
   "cell_type": "markdown",
   "metadata": {},
   "source": [
    "Networks with only linear layers are called **fully connected layers**. Each neuron in one layer is connected to each neuron in the next layer."
   ]
  },
  {
   "cell_type": "markdown",
   "metadata": {},
   "source": [
    "# Each **nn.Linear** line of code is a Linear Layer\n",
    "\n",
    "Here is a visual\n",
    "\n",
    "![neural-network-linear-layers](../images/neural-network-linear-layers.png)"
   ]
  },
  {
   "cell_type": "markdown",
   "metadata": {},
   "source": [
    "## Stacking layers with nn.Sequential()\n",
    "- A PyTorch container that allows us to stack multiple neural network modules in sequence."
   ]
  },
  {
   "cell_type": "code",
   "execution_count": 75,
   "metadata": {},
   "outputs": [
    {
     "data": {
      "text/plain": [
       "Sequential(\n",
       "  (0): Linear(in_features=10, out_features=18, bias=True)\n",
       "  (1): Linear(in_features=18, out_features=20, bias=True)\n",
       "  (2): Linear(in_features=20, out_features=5, bias=True)\n",
       ")"
      ]
     },
     "execution_count": 75,
     "metadata": {},
     "output_type": "execute_result"
    }
   ],
   "source": [
    "# Create network with three linear layers\n",
    "model = nn.Sequential(\n",
    "    nn.Linear (10, 18),\n",
    "    nn.Linear (18, 20),\n",
    "    nn.Linear (20, 5)\n",
    ")\n",
    "model"
   ]
  },
  {
   "cell_type": "code",
   "execution_count": 76,
   "metadata": {},
   "outputs": [
    {
     "name": "stdout",
     "output_type": "stream",
     "text": [
      "This is a 1x10 dimentions tensor tensor([[ 0.3420,  0.5430, -0.4533,  0.4340, -0.3435,  0.3523, -0.3424,  0.3453,\n",
      "          0.8751, -0.3425]])\n"
     ]
    }
   ],
   "source": [
    "# Create input_tensor with ten features\n",
    "input_tensor_2 = torch.tensor(\n",
    "    [[0.342, 0.543, -0.4533, 0.434, -0.3435, 0.3523, -0.3424, 0.3453, 0.87509, -0.3425]]\n",
    ")\n",
    "\n",
    "print('This is a 1x10 dimentions tensor', input_tensor_2)"
   ]
  },
  {
   "cell_type": "code",
   "execution_count": 77,
   "metadata": {},
   "outputs": [
    {
     "name": "stdout",
     "output_type": "stream",
     "text": [
      "here we received an output of 1x5 dimensions tensor([[-0.0547,  0.1139,  0.1321,  0.0467, -0.0807]],\n",
      "       grad_fn=<AddmmBackward0>)\n"
     ]
    }
   ],
   "source": [
    "output_tensor = model(input_tensor_2)\n",
    "print('here we received an output of 1x5 dimensions', output_tensor)"
   ]
  },
  {
   "cell_type": "markdown",
   "metadata": {},
   "source": [
    "## Exercise #1"
   ]
  },
  {
   "cell_type": "markdown",
   "metadata": {},
   "source": [
    "### Your first neural network\n",
    "In this exercise, you will implement a small neural network containing two linear layers. The first layer takes an eight-dimensional input, and the last layer outputs a one-dimensional tensor.\n",
    "\n",
    "The torch package and the torch.nn package have already been imported for you.\n",
    "\n",
    "Create a neural network of two linear layers that takes a tensor of dimensions 1x8 as input, representing 8 features, and outputs a tensor of dimensions 1x1\n",
    "Use any output dimension for the first layer you want."
   ]
  },
  {
   "cell_type": "code",
   "execution_count": 78,
   "metadata": {},
   "outputs": [
    {
     "name": "stdout",
     "output_type": "stream",
     "text": [
      "tensor([[1.1825]], grad_fn=<AddmmBackward0>)\n"
     ]
    }
   ],
   "source": [
    "import torch\n",
    "import torch.nn as nn\n",
    "\n",
    "input_tensor = torch.Tensor([[2, 3, 6, 7, 9, 3, 2, 1]])\n",
    "\n",
    "# Implement a small neural network with exactly two linear layers\n",
    "model = nn.Sequential(\n",
    "    nn.Linear(8, 4),  # First linear layer with an intermediate output dimension\n",
    "    nn.Linear(4, 1)   # Second linear layer to produce the final output\n",
    ")\n",
    "\n",
    "output = model(input_tensor)\n",
    "print(output)"
   ]
  },
  {
   "cell_type": "markdown",
   "metadata": {},
   "source": [
    "### Stacking linear layers\n",
    "Nice work building your first network with two linear layers. Let's stack some more layers. Remember that a neural network can have as many hidden layers as we want, provided the inputs and outputs line up.\n",
    "\n",
    "The aim of this exercise is for you to become comfortable thinking about the inputs and outputs of each successive layer in a PyTorch neural network.\n",
    "\n",
    "This network is designed to ingest the following input:\n",
    "\n",
    "`\n",
    "input_tensor = torch.Tensor([[2, 3, 6, 7, 9, 3, 2, 1, 5, 3, 6, 9]])\n",
    "`\n",
    "\n",
    "- Instructions: Reorder the items provided to create a neural network with three hidden layers and an output of size 2."
   ]
  },
  {
   "cell_type": "code",
   "execution_count": 79,
   "metadata": {},
   "outputs": [
    {
     "name": "stdout",
     "output_type": "stream",
     "text": [
      "tensor([[-0.0975,  1.4123]], grad_fn=<AddmmBackward0>)\n"
     ]
    }
   ],
   "source": [
    "# Explanation for the code below:\n",
    "# 1. It takes an input tensor with 12 elements, as specified in the question.\n",
    "# 2. It has three hidden layers:\n",
    "#    - The first layer transforms from 12 to 20 dimensions\n",
    "#    - The second layer transforms from 20 to 14 dimensions\n",
    "#    - The third layer transforms from 14 to 3 dimensions\n",
    "# 3. The final layer outputs a tensor of size 2, as required.\n",
    "\n",
    "# The nn.Sequential module is used to stack these layers in order. Each nn.Linear layer performs a linear transformation on its input.\n",
    "# The dimensions of each layer are chosen arbitrarily, but ensure that the output of one layer matches the input of the next.\n",
    "# This structure allows the network to learn increasingly complex representations of the input data as it passes through each layer.\n",
    "\n",
    "input_tensor = torch.Tensor([[2, 3, 6, 7, 9, 3, 2, 1, 5, 3, 6, 9]])\n",
    "\n",
    "model = nn.Sequential(\n",
    "    nn.Linear(12, 20),  # First hidden layer\n",
    "    nn.Linear(20, 14),   # Second hidden layer\n",
    "    nn.Linear(14, 3),    # Third hidden layer\n",
    "    nn.Linear(3, 2)     # Fourth the output layer\n",
    ")\n",
    "\n",
    "output = model(input_tensor)\n",
    "print(output)"
   ]
  },
  {
   "cell_type": "markdown",
   "metadata": {},
   "source": [
    "## There are multiple types of Layers\n",
    "\n",
    "1. Linear (Fully Connected) Layers\n",
    "2. Convolutional Layers\n",
    "3. Recurrent Layers (LSTM, GRU, Simple RNN)\n",
    "4. Pooling Layers (Max, Average, Global)\n",
    "5. Normalization Layers (Batch, Layer, Instance)\n",
    "6. Activation Layers (ReLU, Sigmoid, Tanh, Softmax)\n",
    "7. Dropout Layers\n",
    "8. Flatten Layers\n",
    "9. Embedding Layers\n",
    "10. Attention Layers\n",
    "11. Transformer Layers\n",
    "12. Residual Connections"
   ]
  },
  {
   "cell_type": "markdown",
   "metadata": {},
   "source": [
    "# Activation Functions\n",
    "**Activation Functions** add **non-linearity** to the network\n",
    "\n",
    "### Why do we need activation functions?\n",
    "Imagine a neural network as a big house with many rooms, and each neuron is like a light bulb in those rooms. Now, activation functions are like light switches for these bulbs.\n",
    "Without switches (activation functions), the lights would always be on or off at the same brightness. This is boring and not very useful!\n",
    "With switches (activation functions), we can control which lights are on, how bright they are, or even have dimmer switches for more control.\n",
    "This control allows our neural network \"house\" to create complex lighting patterns, just like how real neural networks can learn complex patterns in data.\n",
    "\n",
    "![Activation-layers](../images/activation-layers.png)"
   ]
  },
  {
   "cell_type": "markdown",
   "metadata": {},
   "source": [
    "### Sigmoid function example with an Activation layer\n",
    "\n",
    "- We use Sigmoid for binary classification.\n",
    "- Sigmoid is used as the last step in network of linear layers is **equivalent** to tradtional logistic regression.\n",
    "\n",
    "![sigmoid-function-example](../images/sigmoid-function-example.png)\n",
    "\n",
    "Let me explain the limitations of sigmoid and softmax functions in a way that's easy to understand.\n",
    "\n",
    "## Sigmoid Function Limitations\n",
    "\n",
    "**Vanishing Gradient Problem**\n",
    "Think of the sigmoid function like squeezing a balloon into a small box that only has space between 0 and 1. When you push really hard (large positive or negative numbers):\n",
    "- The output gets stuck near 0 or 1\n",
    "- The gradient becomes extremely small, almost zero\n",
    "- This makes learning very slow or impossible, like trying to move through thick mud\n",
    "\n",
    "**Not Zero-Centered**\n",
    "- The sigmoid function's outputs are always positive (between 0 and 1)\n",
    "- This creates a zigzag pattern during training, making it slower to converge\n",
    "- It's like trying to walk straight while constantly being pulled to one side\n",
    "\n",
    "**Computational Cost**\n",
    "- The sigmoid function uses exponentials which are expensive to calculate\n",
    "- This makes training slower compared to simpler functions like ReLU\n",
    "\n",
    "## When to Use Each\n",
    "**Use Sigmoid When:**\n",
    "- You're doing binary classification\n",
    "- You need outputs between 0 and 1\n",
    "- You're working with gates in LSTM/GRU"
   ]
  },
  {
   "cell_type": "code",
   "execution_count": 80,
   "metadata": {},
   "outputs": [
    {
     "data": {
      "text/plain": [
       "tensor([0.9975])"
      ]
     },
     "execution_count": 80,
     "metadata": {},
     "output_type": "execute_result"
    }
   ],
   "source": [
    "import torch\n",
    "import torch.nn as nn\n",
    "\n",
    "input_tensor = torch.tensor([6])\n",
    "sigmoid = nn.Sigmoid()\n",
    "output = sigmoid(input_tensor)\n",
    "output"
   ]
  },
  {
   "cell_type": "code",
   "execution_count": 81,
   "metadata": {},
   "outputs": [
    {
     "data": {
      "text/plain": [
       "Sequential(\n",
       "  (0): Linear(in_features=6, out_features=4, bias=True)\n",
       "  (1): Linear(in_features=4, out_features=1, bias=True)\n",
       "  (2): Sigmoid()\n",
       ")"
      ]
     },
     "execution_count": 81,
     "metadata": {},
     "output_type": "execute_result"
    }
   ],
   "source": [
    "model = nn.Sequential(\n",
    "    nn.Linear(6, 4), # First Linear Layer\n",
    "    nn.Linear(4, 1), # Second Linear Layer\n",
    "    nn.Sigmoid() # Sigmoid Activation Function\n",
    ")\n",
    "model"
   ]
  },
  {
   "cell_type": "markdown",
   "metadata": {},
   "source": [
    "### Softmax as an Activation Layer\n",
    "\n",
    "![softmax-activation-function](../images/softmax-activation-function.png)\n",
    "\n",
    "## Softmax Function Limitations\n",
    "\n",
    "**Numerical Instability**\n",
    "- When dealing with very large numbers, the exponentials can explode\n",
    "- When dealing with very small numbers, they can vanish to zero\n",
    "- Modern implementations solve this by subtracting the maximum value first\n",
    "\n",
    "**Mutual Exclusivity**\n",
    "- Softmax assumes classes are mutually exclusive (only one can be true)\n",
    "- Not suitable for multi-label problems where multiple classes can be true simultaneously\n",
    "- Like trying to say a picture contains both a cat AND a dog\n",
    "\n",
    "## Better Alternatives\n",
    "\n",
    "**For Hidden Layers:**\n",
    "- ReLU is generally preferred over sigmoid\n",
    "- It's faster and doesn't suffer from vanishing gradients as much\n",
    "- However, ReLU can \"die\" if learning rates are too high\n",
    "\n",
    "**For Output Layer:**\n",
    "- Binary classification: Sigmoid is still good\n",
    "- Multi-class classification: Softmax is appropriate\n",
    "- Modern variations like Swish can sometimes perform better\n",
    "\n",
    "## When to Use Each\n",
    "**Use Softmax When:**\n",
    "- You're doing multi-class classification\n",
    "- You need probability distributions\n",
    "- You want outputs that sum to 1"
   ]
  },
  {
   "cell_type": "code",
   "execution_count": 82,
   "metadata": {},
   "outputs": [
    {
     "data": {
      "text/plain": [
       "tensor([[0.1392, 0.8420, 0.0188]])"
      ]
     },
     "execution_count": 82,
     "metadata": {},
     "output_type": "execute_result"
    }
   ],
   "source": [
    "import torch\n",
    "import torch.nn as nn\n",
    "\n",
    "# Creating an input tensor\n",
    "input_tensor = torch.tensor([[4.3, 6.1, 2.3]]) # 1. The outer brackets [ ] create a list, which represents a batch of inputs. The inner brackets [ ] represent a single sample within that batch. This structure creates a 2-dimensional tensor with the shape (1, 3), where: 1 is the batch size (number of samples) 3 is the number of features for each sample\n",
    "\n",
    "# Apply softmax along the last dimension\n",
    "probabilities = nn.Softmax(dim=1)\n",
    "output_tensor = probabilities(input_tensor)\n",
    "\n",
    "output_tensor"
   ]
  },
  {
   "cell_type": "markdown",
   "metadata": {},
   "source": [
    "# Exercise 1.6\n",
    "\n",
    "## The sigmoid and softmax functions\n",
    "The sigmoid and softmax functions are two of the most popular activation functions in deep learning. They are both usually used as the last step of a neural network. Sigmoid functions are used for binary classification problems, whereas softmax functions are often used for multi-class classification problems. This exercise will familiarize you with creating and using both functions.\n",
    "\n",
    "Let's say that you have a neural network that returned the values contained in the **score** tensor as a pre-activation output. You will apply activation functions to this output."
   ]
  },
  {
   "cell_type": "markdown",
   "metadata": {},
   "source": [
    "### Instructions 1/2\n",
    "\n",
    "Create a sigmoid function and apply it on input_tensor to generate a probability."
   ]
  },
  {
   "cell_type": "code",
   "execution_count": 83,
   "metadata": {},
   "outputs": [
    {
     "name": "stdout",
     "output_type": "stream",
     "text": [
      "tensor([[0.6900]])\n"
     ]
    }
   ],
   "source": [
    "import torch\n",
    "import torch.nn as nn\n",
    "\n",
    "input_tensor = torch.tensor([[0.8]])\n",
    "\n",
    "# Create a sigmoid function and apply it on input_tensor\n",
    "sigmoid = nn.Sigmoid()\n",
    "probability = sigmoid(input_tensor)\n",
    "print(probability)"
   ]
  },
  {
   "cell_type": "markdown",
   "metadata": {},
   "source": [
    "### Instruction 2/2\n",
    "\n",
    "Create a softmax function and apply it on input_tensor to generate a probability."
   ]
  },
  {
   "cell_type": "code",
   "execution_count": 84,
   "metadata": {},
   "outputs": [
    {
     "name": "stdout",
     "output_type": "stream",
     "text": [
      "tensor([[1.2828e-01, 1.1698e-04, 5.7492e-01, 3.4961e-02, 1.5669e-01, 1.0503e-01]])\n"
     ]
    }
   ],
   "source": [
    "import torch\n",
    "import torch.nn as nn\n",
    "\n",
    "input_tensor = torch.tensor([[1.0, -6.0, 2.5, -0.3, 1.2, 0.8]])\n",
    "\n",
    "# Create a sigmoid function and apply it on input_tensor\n",
    "softmax = nn.Softmax(dim=-1)\n",
    "probabilities = softmax(input_tensor)\n",
    "print(probabilities)"
   ]
  },
  {
   "cell_type": "markdown",
   "metadata": {},
   "source": [
    "# Forward Propagation and Backpropagation\n",
    "---\n",
    "\n",
    "### What is Forward Propagation?\n",
    "Forward propagation is like sending a message through a game of telephone, but with math. Imagine you and your friends are playing a game where you pass a message from one person to another, but each person changes the message a little bit based on some rules.\n",
    "In a neural network, forward propagation is the process of taking an input (like an image or a number) and passing it through all the layers of the network to get an output (like a prediction or classification).\n",
    "\n",
    "### Why is it Used and Important?\n",
    "Forward propagation is used to make predictions or classifications. It's important because:\n",
    "It's how the network \"thinks\": Just like how your brain processes information to make decisions, forward propagation is how a neural network processes data to make predictions.\n",
    "It's the first step in learning: Before a network can learn, it needs to make a guess. Forward propagation is that guess.\n",
    "It helps us understand what the network is doing: By following forward propagation, we can see how the network arrives at its conclusion.\n",
    "\n",
    "### An Analogy for Forward Propagation\n",
    "Think of forward propagation like baking a cake:\n",
    "You start with ingredients (input data).\n",
    "You mix them in bowls (hidden layers) using recipes (weights and biases).\n",
    "You apply heat or cold (activation functions) at various stages.\n",
    "Finally, you get a cake (output) which might be great or might need improvement.\n",
    "Forward propagation is just the baking process.\n",
    "\n",
    "### What is Backpropagation?\n",
    "Backpropagation is like playing a game of \"Hot and Cold\" with your neural network. Remember when you were a kid, and someone would hide an object, and you'd try to find it? They'd say \"warmer\" when you got closer and \"colder\" when you moved away. Backpropagation is similar, but instead of finding a hidden object, we're trying to find the best weights and biases for our neural network.\n",
    "\n",
    "### Why is it Used and Important?\n",
    "Backpropagation is the learning process of neural networks. It's important because:\n",
    "It teaches the network: Just like how you learn from your mistakes, backpropagation helps the network learn from its errors.\n",
    "It improves predictions: By adjusting weights and biases, the network gets better at making accurate predictions.\n",
    "It's efficient: Backpropagation is a smart way to calculate how each weight and bias affects the final error.\n",
    "\n",
    "### An Analogy for Backpropagation\n",
    "- You bake a cake (forward propagation) and submit it to judges.\n",
    "- The judges taste it and give you a score (calculate error).\n",
    "- You then think back through your baking process (backward pass):\n",
    "- Was it too sweet? Maybe use less sugar next time.\n",
    "- Too dry? Perhaps adjust the baking time.\n",
    "- Not chocolatey enough? Increase the cocoa powder.\n",
    "- You make these small adjustments to your recipe (update weights and biases).\n",
    "- You bake again, hoping for a better cake (and a better score) next time.\n",
    "\n",
    "Forward-and-Backward-Pass\n",
    "\n",
    "![Forward-and-Backward-Pass](../images/Forward-and-Backward-Pass.png)"
   ]
  },
  {
   "cell_type": "markdown",
   "metadata": {},
   "source": [
    "### Understanding the Differences Between Terms\n",
    "\n",
    "Think of training a neural network like teaching someone to cook the perfect dish. Let's clarify these commonly confused terms:\n",
    "\n",
    "**Forward Pass vs Forward Propagation**\n",
    "- **Forward Pass**: A single trip through the network, like one attempt at cooking a dish\n",
    "- **Forward Propagation**: The complete process and mathematical rules of moving forward through the network, like the entire cooking technique and recipe\n",
    "\n",
    "**Backward Pass vs Backpropagation**\n",
    "- **Backward Pass**: The specific phase of calculating errors backwards through the network layers, like analyzing what went wrong in each step of cooking\n",
    "- **Backpropagation**: The complete learning algorithm that includes:\n",
    "  1. The backward pass (finding what went wrong)\n",
    "  2. Calculating gradients (figuring out how to fix each step)\n",
    "  3. Updating weights (adjusting the recipe)\n",
    "\n",
    "**Simple Analogy to Remember the Difference**:\n",
    "Imagine learning to cook pasta:\n",
    "- Forward propagation is like having the complete recipe and cooking technique\n",
    "- A forward pass is one attempt at cooking the pasta\n",
    "- A backward pass is analyzing what went wrong in each step\n",
    "- Backpropagation is the whole learning process: analyzing mistakes, figuring out improvements, and updating your recipe\n",
    "\n",
    "| Term | What it Does | Cooking Analogy |\n",
    "|------|--------------|-----------------|\n",
    "| Forward Pass | One instance of moving through network | One attempt at cooking |\n",
    "| Forward Propagation | Complete process of moving through network | Complete cooking technique |\n",
    "| Backward Pass | Error calculation phase | Analyzing what went wrong |\n",
    "| Backpropagation | Complete learning algorithm | Entire process of learning to cook better |"
   ]
  },
  {
   "cell_type": "markdown",
   "metadata": {},
   "source": [
    "# Classification vs Regression Problems in Deep Learning\n",
    "Below, you will learn how to perform binary classification, multi-class classification, and regression problems. You will learn how to deal with each of these types of problems.\n",
    "\n",
    "Let me explain these concepts using simple, everyday analogies.\n",
    "\n",
    "## Regression (Continuous Output)\n",
    "\n",
    "**The Temperature Analogy**\n",
    "Think of regression like a thermometer. The temperature can be any value within a range:\n",
    "- 72.5°F\n",
    "- 72.6°F\n",
    "- 72.543°F\n",
    "- 73.0°F\n",
    "\n",
    "It's \"continuous\" because there are infinite possible values between any two numbers. You can always add more decimal places.\n",
    "\n",
    "**Other Examples**\n",
    "- House prices: $245,678.50\n",
    "- Height: 5.7 feet\n",
    "- Weight: 150.3 pounds\n",
    "\n",
    "In regression forward propagation, the network tries to predict these smooth, flowing numbers that can take any value.\n",
    "\n",
    "## Classification (Discrete Output)\n",
    "\n",
    "**The Light Switch Analogy**\n",
    "Think of binary classification like a light switch:\n",
    "- ON (1)\n",
    "- OFF (0)\n",
    "\n",
    "There's nothing in between - no \"half-on\" state.\n",
    "\n",
    "**The Fruit Bowl Analogy**\n",
    "For multi-class classification, think of sorting fruits:\n",
    "- Apple\n",
    "- Orange\n",
    "- Banana\n",
    "- Pear\n",
    "\n",
    "Each fruit is a distinct category. You can't have something that's 60% apple and 40% orange.\n",
    "\n",
    "## Key Differences in Forward Pass\n",
    "\n",
    "**Regression Network**\n",
    "Like a price estimator at a car dealership:\n",
    "- Takes in features (mileage, year, condition)\n",
    "- Can output any price ($15,432.67)\n",
    "- No boundaries on the output value\n",
    "\n",
    "**Classification Network**\n",
    "Like a doctor diagnosing an illness:\n",
    "- Takes in symptoms\n",
    "- Must choose from specific diagnoses\n",
    "- Can't create new categories\n",
    "\n",
    "## Simple Real-World Example\n",
    "\n",
    "**Regression**\n",
    "Predicting a child's height:\n",
    "- Input: Parent's height, age, nutrition\n",
    "- Output could be any number: 4.3 feet, 4.31 feet, 4.32 feet\n",
    "\n",
    "**Classification**\n",
    "Predicting a child's t-shirt size:\n",
    "- Input: Same data\n",
    "- Output must be: Small, Medium, Large\n",
    "- Can't output \"Medium-and-a-half\"\n",
    "\n",
    "The main difference is that regression can predict any number along a continuous spectrum, while classification must choose from pre-defined categories or classes.\n",
    "\n",
    "![classification-vs-regression](../images/classification-vs-regression.png)"
   ]
  },
  {
   "cell_type": "markdown",
   "metadata": {},
   "source": [
    "## Binary Classification: Forward Propagation\n",
    "\n",
    "### The Video Game Character Selection Analogy\n",
    "\n",
    "Imagine you're creating a video game where you need to classify characters as either \"Heroes\" (1) or \"Villains\" (0). This is binary classification - just two choices!\n",
    "\n",
    "Think of forward propagation like a character creation factory with different stations:\n",
    "\n",
    "### Input Station (Input Layer)\n",
    "You start with character features like:\n",
    "- Height (in inches)\n",
    "- Strength level (1-100)\n",
    "- Smile factor (1-10)\n",
    "- Cape color brightness (1-10)\n",
    "\n",
    "### Magic Processing Stations (Hidden Layers)\n",
    "Each station has workers (neurons) who look at these features:\n",
    "- Station 1 worker might say: \"Hmm, tall + strong usually means hero!\"\n",
    "- Station 2 worker thinks: \"Bright cape + big smile often means hero!\"\n",
    "- They multiply features by importance (weights) and add their bias (personal opinion)\n",
    "\n",
    "### Final Decision Station (Output Layer)\n",
    "The chief worker:\n",
    "- Combines all opinions\n",
    "- Uses a special calculator (sigmoid function) that gives a number between 0 and 1\n",
    "- If result > 0.5, character is labeled \"Hero\"\n",
    "- If result < 0.5, character is labeled \"Villain\""
   ]
  },
  {
   "cell_type": "code",
   "execution_count": 85,
   "metadata": {},
   "outputs": [
    {
     "name": "stdout",
     "output_type": "stream",
     "text": [
      "Sequential(\n",
      "  (0): Linear(in_features=6, out_features=4, bias=True)\n",
      "  (1): Linear(in_features=4, out_features=1, bias=True)\n",
      "  (2): Sigmoid()\n",
      ")\n",
      "tensor([[0.5112],\n",
      "        [0.3748],\n",
      "        [0.5165],\n",
      "        [0.4205],\n",
      "        [0.5367]], grad_fn=<SigmoidBackward0>)\n",
      "You have 5 predictions (one for each input row)\n",
      "Each number is between 0 and 1 (because of sigmoid)\n",
      "Numbers > 0.5 typically suggest class 1\n",
      "Numbers < 0.5 typically suggest class 0\n"
     ]
    }
   ],
   "source": [
    "## Create input data of shape 5x6\n",
    "input_data = torch.tensor([\n",
    "    [ 0.4823, -0.2314,  0.7651, -0.5982,  0.1245,  0.8976],\n",
    "    [-0.7634,  0.3217, -0.9012,  0.5678, -0.1543,  0.6789],\n",
    "    [ 0.2345, -0.8765,  0.4321, -0.6543,  0.9876, -0.3210],\n",
    "    [-0.1111,  0.2222, -0.3333,  0.4444, -0.5555,  0.6666],\n",
    "    [ 0.7890, -0.4567,  0.1234, -0.9876,  0.5432, -0.2109]\n",
    "])\n",
    "\n",
    "# create a binary classification model\n",
    "model = nn.Sequential(\n",
    "    nn.Linear(6, 4),\n",
    "    nn.Linear(4, 1),\n",
    "    nn.Sigmoid()\n",
    ")\n",
    "\n",
    "output = model(input_data)\n",
    "\n",
    "print(model)\n",
    "print(output)\n",
    "print('You have 5 predictions (one for each input row)')\n",
    "print('Each number is between 0 and 1 (because of sigmoid)')\n",
    "print('Numbers > 0.5 typically suggest class 1')\n",
    "print('Numbers < 0.5 typically suggest class 0')"
   ]
  },
  {
   "cell_type": "markdown",
   "metadata": {},
   "source": [
    "## Multi-class classification: forward pass\n",
    "\n",
    "Let's understand Multiclass Classification Forward Pass using a fun school-themed analogy! 📚\n",
    "\n",
    "## The School Club Assignment System\n",
    "\n",
    "Imagine you're a teacher with a system that helps assign students to different school clubs: Art 🎨, Music 🎵, Sports 🏃‍♂️, or Science 🔬\n",
    "\n",
    "### The Assignment Process (Forward Pass)\n",
    "\n",
    "1. **Student Information Collection** (Input Layer)\n",
    "- You collect 6 pieces of information about each student:\n",
    "  * Creativity score\n",
    "  * Athletic ability\n",
    "  * Test scores\n",
    "  * Musical talent\n",
    "  * Problem-solving skills\n",
    "  * Interest level\n",
    "\n",
    "2. **The Counselor Review** (Hidden Layer)\n",
    "- School counselors look at these features\n",
    "- Each counselor combines the information differently\n",
    "- They pass their recommendations to the final committee\n",
    "\n",
    "3. **Final Club Assignment** (Output Layer)\n",
    "- Instead of just two choices (like binary classification), we now have 4 possible clubs\n",
    "- Each student gets 4 scores (one for each club)\n",
    "- The highest score determines the club assignment"
   ]
  },
  {
   "cell_type": "code",
   "execution_count": 86,
   "metadata": {},
   "outputs": [
    {
     "name": "stdout",
     "output_type": "stream",
     "text": [
      "torch.Size([5, 3])\n",
      "Each row here sums up to 1: tensor([[0.3354, 0.2995, 0.3651],\n",
      "        [0.2742, 0.3000, 0.4257],\n",
      "        [0.3483, 0.2766, 0.3751],\n",
      "        [0.2777, 0.3089, 0.4134],\n",
      "        [0.3954, 0.2564, 0.3482]], grad_fn=<SoftmaxBackward0>)\n",
      "Sum of each row: tensor([1.0000, 1.0000, 1.0000, 1.0000, 1.0000], grad_fn=<SumBackward1>)\n",
      "Each row is a unique feature called a class like Row 1 = class 1 (mammal), row 2 = class 1 (mammal), row 3 = class 3 (reptile)\n"
     ]
    }
   ],
   "source": [
    "## Create input data of shape 5x6\n",
    "input_data = torch.tensor([\n",
    "    [ 0.4823, -0.2314,  0.7651, -0.5982,  0.1245,  0.8976],\n",
    "    [-0.7634,  0.3217, -0.9012,  0.5678, -0.1543,  0.6789],\n",
    "    [ 0.2345, -0.8765,  0.4321, -0.6543,  0.9876, -0.3210],\n",
    "    [-0.1111,  0.2222, -0.3333,  0.4444, -0.5555,  0.6666],\n",
    "    [ 0.7890, -0.4567,  0.1234, -0.9876,  0.5432, -0.2109]\n",
    "])\n",
    "\n",
    "# Specify model has three classes\n",
    "n_classes = 3\n",
    "\n",
    "# Create multiclass classification model\n",
    "model = nn.Sequential(\n",
    "    nn.Linear(6, 4), # First linear layer \n",
    "    nn.Linear(4, n_classes), # Second linear Layer \n",
    "    nn.Softmax(dim=-1) # Softmax activation\n",
    ")\n",
    "\n",
    "# Pass input data through model\n",
    "output = model (input_data)\n",
    "print(output.shape)\n",
    "\n",
    "print('Each row here sums up to 1:', output)\n",
    "print('Sum of each row:', output.sum(dim=1))\n",
    "print('Each row is a unique feature called a class like Row 1 = class 1 (mammal), row 2 = class 1 (mammal), row 3 = class 3 (reptile)')"
   ]
  },
  {
   "cell_type": "markdown",
   "metadata": {},
   "source": [
    "### Key Differences of Multi-class classification from Binary Classification:\n",
    "\n",
    "1. **Multiple Outputs**\n",
    "- Binary: One output (0 or 1)\n",
    "- Multiclass: Multiple outputs (one for each class)\n",
    "\n",
    "2. **Softmax Instead of Sigmoid**\n",
    "- Binary: Uses Sigmoid (0 to 1)\n",
    "- Multiclass: Uses Softmax (probabilities that sum to 1)\n",
    "\n",
    "3. **Final Decision**\n",
    "- Binary: Above/below 0.5\n",
    "- Multiclass: Highest probability wins\n",
    "\n",
    "### Why It's Important:\n",
    "- Real-world problems often have more than two choices\n",
    "- Each class gets a fair chance\n",
    "- We can see confidence levels for all possibilities\n",
    "- Helps make more nuanced decisions\n",
    "\n",
    "Remember: The \"Forward Pass\" is just the one-way trip from input (student info) to output (club probabilities), like a student walking through the school offices getting their club assignment! 🏫"
   ]
  },
  {
   "cell_type": "markdown",
   "metadata": {},
   "source": [
    "## Regression: Forward Propogation\n",
    "Below the code does not have an activation function, and the last layer's last dimension returns an output with one feature."
   ]
  },
  {
   "cell_type": "code",
   "execution_count": 87,
   "metadata": {},
   "outputs": [
    {
     "name": "stdout",
     "output_type": "stream",
     "text": [
      "tensor([[ 0.2004],\n",
      "        [-0.4410],\n",
      "        [ 0.2510],\n",
      "        [-0.2000],\n",
      "        [ 0.2259]], grad_fn=<AddmmBackward0>)\n"
     ]
    }
   ],
   "source": [
    "## Create input data of shape 5x6\n",
    "input_data = torch.tensor([\n",
    "    [ 0.4823, -0.2314,  0.7651, -0.5982,  0.1245,  0.8976],\n",
    "    [-0.7634,  0.3217, -0.9012,  0.5678, -0.1543,  0.6789],\n",
    "    [ 0.2345, -0.8765,  0.4321, -0.6543,  0.9876, -0.3210],\n",
    "    [-0.1111,  0.2222, -0.3333,  0.4444, -0.5555,  0.6666],\n",
    "    [ 0.7890, -0.4567,  0.1234, -0.9876,  0.5432, -0.2109]\n",
    "])\n",
    "\n",
    "# Create regression model\n",
    "model = nn.Sequential(\n",
    "    nn.Linear(6, 4), # First linear layer \n",
    "    nn.Linear(4, 1) # Second linear layer\n",
    ")\n",
    "\n",
    "# Pass input data through model\n",
    "output = model(input_data)\n",
    "\n",
    "# Return output\n",
    "print(output)"
   ]
  },
  {
   "cell_type": "markdown",
   "metadata": {},
   "source": [
    "## Exercise 2.1\n",
    "\n",
    "### Building a binary classifier in PyTorch\n",
    "Recall that a small neural network with a single linear layer followed by a sigmoid function is a binary classifier. It acts just like a logistic regression.\n",
    "\n",
    "In this exercise, you'll practice building this small network and interpreting the output of the classifier.\n",
    "\n",
    "The torch package and the torch.nn package have already been imported for you.\n",
    "\n",
    "Instruction-\n",
    "\n",
    "- Create a neural network that takes a tensor of dimensions 1x8 as input, and returns an output of the correct shape for binary classification.\n",
    "- Pass the output of the linear layer to a sigmoid, which both takes in and return a single float."
   ]
  },
  {
   "cell_type": "code",
   "execution_count": 88,
   "metadata": {},
   "outputs": [
    {
     "name": "stdout",
     "output_type": "stream",
     "text": [
      "tensor([[0.9916]], grad_fn=<SigmoidBackward0>)\n"
     ]
    }
   ],
   "source": [
    "import torch\n",
    "import torch.nn as nn\n",
    "\n",
    "input_tensor = torch.Tensor([[3, 4, 6, 2, 3, 6, 8, 9]])\n",
    "\n",
    "# Implement a small neural network for binary classification\n",
    "model = nn.Sequential(\n",
    "  nn.Linear(8, 1),\n",
    "  nn.Sigmoid()\n",
    ")\n",
    "\n",
    "output = model(input_tensor)\n",
    "print(output)"
   ]
  },
  {
   "cell_type": "markdown",
   "metadata": {},
   "source": [
    "## Exercise 2.2\n",
    "\n",
    "### From regression to multi-class classification\n",
    "Recall that the models we have seen for binary classification, multi-class classification and regression have all been similar, barring a few tweaks to the model.\n",
    "\n",
    "In this exercise, you'll start by building a model for regression, and then tweak the model to perform a multi-class classification."
   ]
  },
  {
   "cell_type": "markdown",
   "metadata": {},
   "source": [
    "### Instructions 1/2\n",
    "Create a neural network with exactly four linear layers, which takes the input tensor as input, and outputs a regression value, using any shapes you like for the hidden layers."
   ]
  },
  {
   "cell_type": "code",
   "execution_count": 89,
   "metadata": {},
   "outputs": [
    {
     "name": "stdout",
     "output_type": "stream",
     "text": [
      "tensor([[-0.1058]], grad_fn=<AddmmBackward0>)\n"
     ]
    }
   ],
   "source": [
    "import torch\n",
    "import torch.nn as nn\n",
    "\n",
    "input_tensor = torch.Tensor([[3, 4, 6, 7, 10, 12, 2, 3, 6, 8, 9]])\n",
    "\n",
    "# Implement a neural network with exactly four linear layers\n",
    "model = nn.Sequential(\n",
    "    nn.Linear(11, 4),\n",
    "    nn.Linear(4, 5),\n",
    "    nn.Linear(5, 9),\n",
    "    nn.Linear(9, 1)\n",
    ")\n",
    "\n",
    "output = model(input_tensor)\n",
    "print(output)"
   ]
  },
  {
   "cell_type": "code",
   "execution_count": 90,
   "metadata": {},
   "outputs": [
    {
     "data": {
      "image/png": "[encoded data removed]",
      "text/plain": [
       "<Figure size 1200x1100 with 1 Axes>"
      ]
     },
     "metadata": {},
     "output_type": "display_data"
    },
    {
     "name": "stdout",
     "output_type": "stream",
     "text": [
      "Layer outputs:\n",
      "Layer 0 output shape: torch.Size([1, 4])\n",
      "Layer 1 output shape: torch.Size([1, 5])\n",
      "Layer 2 output shape: torch.Size([1, 9])\n",
      "Layer 3 output shape: torch.Size([1, 1])\n",
      "Final output: tensor([[-0.1058]], grad_fn=<AddmmBackward0>)\n"
     ]
    }
   ],
   "source": [
    "# Visualizing the output above. Ignore the code. Just look at the visual\n",
    "import matplotlib.pyplot as plt\n",
    "\n",
    "# Visualize the model architecture\n",
    "def plot_model_architecture(model):\n",
    "    layer_sizes = [11] + [layer.out_features for layer in model if isinstance(layer, nn.Linear)]\n",
    "    \n",
    "    fig, ax = plt.subplots(figsize=(12, 11))\n",
    "    \n",
    "    for i, size in enumerate(layer_sizes):\n",
    "        x = i\n",
    "        for j in range(size):\n",
    "            y = j - size / 2\n",
    "            ax.add_patch(plt.Circle((x, y), 0.1, fill=True))\n",
    "        \n",
    "        if i < len(layer_sizes) - 1:\n",
    "            for j in range(size):\n",
    "                for k in range(layer_sizes[i+1]):\n",
    "                    ax.plot([x, x+1], [j-size/2, k-layer_sizes[i+1]/2], 'gray', alpha=0.1)\n",
    "        \n",
    "        # Add layer size text\n",
    "        ax.text(x, max(layer_sizes)/2 + 0.5, f'Layer {i}\\nSize: {size}', \n",
    "                ha='center', va='bottom')\n",
    "    \n",
    "    ax.set_xlim(-0.5, len(layer_sizes) - 0.5)\n",
    "    ax.set_ylim(-max(layer_sizes)/2 - 0.5, max(layer_sizes)/2 + 1.5)  # Increased upper limit\n",
    "    ax.axis('off')\n",
    "    plt.title('Neural Network Architecture')\n",
    "    plt.tight_layout()\n",
    "    plt.show()\n",
    "\n",
    "plot_model_architecture(model)\n",
    "\n",
    "# Print the output of each layer\n",
    "def print_layer_outputs(model, input_tensor):\n",
    "    print(\"Layer outputs:\")\n",
    "    x = input_tensor\n",
    "    for i, layer in enumerate(model):\n",
    "        x = layer(x)\n",
    "        print(f\"Layer {i} output shape: {x.shape}\")\n",
    "    print(f\"Final output: {x}\")\n",
    "\n",
    "print_layer_outputs(model, input_tensor)"
   ]
  },
  {
   "cell_type": "markdown",
   "metadata": {},
   "source": [
    "Explanation for the code above-\n",
    "\n",
    "Why do we need '1' at the end of the last linear layer?\n",
    "\n",
    "![Exercise2.2-instruction1](../images/Exercise2.2-instruction1.png)\n",
    "\n",
    "Here's why we use 1 as the output in the last layer?\n",
    "\n",
    "***Purpose of Regression***: In regression, we're trying to predict a single continuous value. Think of it like predicting the price of a house or the temperature tomorrow.\n",
    "Single Output: The last layer outputs just one number because that's all we need for regression. It's like having a single thermometer to measure temperature.\n",
    "No Activation Function: Notice there's no activation function after the last layer. In regression, we often want the raw output value, which can be any real number."
   ]
  },
  {
   "cell_type": "markdown",
   "metadata": {},
   "source": [
    "### Instructions 2/2\n",
    "A similar neural network to the one you just built is provided, containing four linear layers; update this network to perform a multi-class classification with four outputs."
   ]
  },
  {
   "cell_type": "code",
   "execution_count": 91,
   "metadata": {},
   "outputs": [
    {
     "name": "stdout",
     "output_type": "stream",
     "text": [
      "tensor([[0.1340, 0.6609, 0.0776, 0.1275]], grad_fn=<SoftmaxBackward0>)\n"
     ]
    }
   ],
   "source": [
    "import torch\n",
    "import torch.nn as nn\n",
    "\n",
    "input_tensor = torch.Tensor([[3, 4, 6, 7, 10, 12, 2, 3, 6, 8, 9]])\n",
    "\n",
    "# Implement a neural network with exactly four linear layers\n",
    "model = nn.Sequential(\n",
    "    nn.Linear(11, 4),\n",
    "    nn.Linear(4, 5),\n",
    "    nn.Linear(5, 9),\n",
    "    nn.Linear(9, 4),\n",
    "    nn.Softmax(dim=-1)\n",
    ")\n",
    "\n",
    "output = model(input_tensor)\n",
    "print(output)"
   ]
  },
  {
   "cell_type": "code",
   "execution_count": 92,
   "metadata": {},
   "outputs": [
    {
     "data": {
      "image/png": "[encoded data removed]",
      "text/plain": [
       "<Figure size 1200x1100 with 1 Axes>"
      ]
     },
     "metadata": {},
     "output_type": "display_data"
    },
    {
     "name": "stdout",
     "output_type": "stream",
     "text": [
      "Layer outputs:\n",
      "Layer 0 output shape: torch.Size([1, 4])\n",
      "Layer 1 output shape: torch.Size([1, 5])\n",
      "Layer 2 output shape: torch.Size([1, 9])\n",
      "Layer 3 output shape: torch.Size([1, 4])\n",
      "Layer 4 output shape: torch.Size([1, 4])\n",
      "Final output: tensor([[0.1340, 0.6609, 0.0776, 0.1275]], grad_fn=<SoftmaxBackward0>)\n"
     ]
    }
   ],
   "source": [
    "# Visualizing the output above. Ignore the code. Just look at the visual\n",
    "import matplotlib.pyplot as plt\n",
    "\n",
    "# Visualize the model architecture\n",
    "def plot_model_architecture(model):\n",
    "    layer_sizes = [11] + [layer.out_features for layer in model if isinstance(layer, nn.Linear)]\n",
    "    \n",
    "    fig, ax = plt.subplots(figsize=(12, 11))\n",
    "    \n",
    "    for i, size in enumerate(layer_sizes):\n",
    "        x = i\n",
    "        for j in range(size):\n",
    "            y = j - size / 2\n",
    "            ax.add_patch(plt.Circle((x, y), 0.1, fill=True))\n",
    "        \n",
    "        if i < len(layer_sizes) - 1:\n",
    "            for j in range(size):\n",
    "                for k in range(layer_sizes[i+1]):\n",
    "                    ax.plot([x, x+1], [j-size/2, k-layer_sizes[i+1]/2], 'gray', alpha=0.1)\n",
    "        \n",
    "        # Add layer size text\n",
    "        ax.text(x, max(layer_sizes)/2 + 0.5, f'Layer {i}\\nSize: {size}', \n",
    "                ha='center', va='bottom')\n",
    "    \n",
    "    ax.set_xlim(-0.5, len(layer_sizes) - 0.5)\n",
    "    ax.set_ylim(-max(layer_sizes)/2 - 0.5, max(layer_sizes)/2 + 1.5)  # Increased upper limit\n",
    "    ax.axis('off')\n",
    "    plt.title('Neural Network Architecture')\n",
    "    plt.tight_layout()\n",
    "    plt.show()\n",
    "\n",
    "plot_model_architecture(model)\n",
    "\n",
    "# Print the output of each layer\n",
    "def print_layer_outputs(model, input_tensor):\n",
    "    print(\"Layer outputs:\")\n",
    "    x = input_tensor\n",
    "    for i, layer in enumerate(model):\n",
    "        x = layer(x)\n",
    "        print(f\"Layer {i} output shape: {x.shape}\")\n",
    "    print(f\"Final output: {x}\")\n",
    "\n",
    "print_layer_outputs(model, input_tensor)"
   ]
  },
  {
   "cell_type": "markdown",
   "metadata": {},
   "source": [
    "### Explanation for the code above\n",
    "\n",
    "For the second part, we're adapting the model for multi-class classification. \n",
    "\n",
    "Here's why we change the last layer to output 4 values and add a Softmax:\n",
    "\n",
    "![Exercise2.2-instruction2](../images/Exercise2.2-instruction2.png)\n",
    "\n",
    "1. **Purpose of Classification**: In multi-class classification, we're trying to categorize input into one of several classes. Imagine sorting fruits into apples, oranges, bananas, and pears.\n",
    "\n",
    "2. **Multiple Outputs**: The last layer now outputs 4 numbers because we have 4 possible classes. It's like having 4 baskets, one for each type of fruit.\n",
    "\n",
    "3. **Softmax Activation**: We add a Softmax layer at the end. This turns the 4 numbers into probabilities that sum to 1. It's like saying, \"There's a 70% chance this is an apple, 20% orange, 5% banana, and 5% pear.\"\n",
    "\n",
    "4. **Why 4 Outputs**: The number of outputs in the last layer should match the number of classes in your problem. If you're classifying among 4 types of fruit, you need 4 outputs."
   ]
  },
  {
   "cell_type": "markdown",
   "metadata": {},
   "source": [
    "# Using Loss Functions to assess model predictions\n",
    "\n",
    "### What is a Loss Function?\n",
    "Imagine you're playing a game where you have to guess the price of different items. The loss function is like a scorekeeper that tells you how far off your guess was from the real price. The bigger the difference, the higher your \"loss\" or score.\n",
    "In machine learning, the loss function does the same thing. It measures how wrong the model's predictions are compared to the actual correct answers.\n",
    "\n",
    "### Why Do We Need Loss Functions?\n",
    "Loss functions are super important because they help the machine learn. Here's how:\n",
    "1. The machine makes a guess (prediction)\n",
    "2. The loss function calculates how wrong the guess was\n",
    "3. The machine uses this information to make better guesses next time\n",
    "4. It takes in model prediction ŷ and ground truth y\n",
    "It's like learning to shoot basketball free throws. Each time you miss, you adjust your technique based on how far off you were.\n",
    "\n",
    "## Types of Loss Functions\n",
    "There are different types of loss functions for different kinds of problems. Let's look at two main categories:\n",
    "\n",
    "### Classification Loss Functions\n",
    "These are used when we're trying to categorize things, like determining if an email is spam or not.\n",
    "- Binary Cross-Entropy: This is used when there are only two categories (like spam or not spam). It measures how confident the model is in its correct predictions.\n",
    "- Categorical Cross-Entropy: This is used when there are more than two categories (like classifying animals into dogs, cats, birds, etc.).\n",
    "\n",
    "### Regression Loss Functions\n",
    "These are used when we're trying to predict a number, like the price of a house or the temperature tomorrow.\n",
    "- Mean Squared Error (MSE): This is like measuring the straight-line distance between your guess and the correct answer, then squaring it. It's good for most cases but can be sensitive to outliers (really wrong guesses).\n",
    "- Mean Absolute Error (MAE): This just measures the straight-line distance without squaring. It's less sensitive to outliers.\n",
    "\n",
    "### Loss Function in a formula\n",
    "loss = F(y, ŷ)\n",
    "\n",
    "Here we take the y which is our ground truth and ŷ as the prediction value as inputs which returns a numerical loss value."
   ]
  },
  {
   "cell_type": "markdown",
   "metadata": {},
   "source": [
    "## One Hot encoding\n",
    "One Hot encoding is a technique used to convert categorical data into a format that machine learning models can understand and use effectively. \n",
    "\n",
    "### Here's how it works:\n",
    "\n",
    "Instead of using a single number to represent a category, we create a new column for each possible category.\n",
    "\n",
    "For each data point, we put a 1 in the column that represents its category, and 0s in all the other columns.\n",
    "\n",
    "Let's use a simple example:\n",
    "\n",
    "Imagine we have a dataset about fruits with three categories: apple, banana, and orange. Instead of assigning numbers like 1, 2, 3 to these fruits, we create three new columns:\n",
    "\n",
    "| Is_Apple | Is_Banana | Is_Orange |\n",
    "|----------|-----------|-----------|\n",
    "| 1        | 0         | 0         |\n",
    "| 0        | 1         | 0         |\n",
    "| 0        | 0         | 1         |\n",
    "\n",
    "This way:\n",
    "- An apple is represented as [1, 0, 0]\n",
    "- A banana is represented as [0, 1, 0]\n",
    "- An orange is represented as [0, 0, 1]\n",
    "\n",
    "### Why do we use One Hot encoding?\n",
    "1. It prevents the model from assuming a natural order between categories. For example, if we used 1, 2, 3 for apple, banana, orange, the model might think bananas are \"more than\" apples and \"less than\" oranges, which isn't true.\n",
    "2. It allows the model to treat each category independently, which can lead to better predictions.\n",
    "3. It's compatible with many machine learning algorithms that expect numerical input."
   ]
  },
  {
   "cell_type": "code",
   "execution_count": 93,
   "metadata": {},
   "outputs": [
    {
     "name": "stdout",
     "output_type": "stream",
     "text": [
      "This is our loss function value: tensor(0.8131, dtype=torch.float64)\n"
     ]
    }
   ],
   "source": [
    "import torch\n",
    "from torch.nn import CrossEntropyLoss\n",
    "\n",
    "scores = torch.tensor([[-0.1211, 0.1059]])\n",
    "\n",
    "one_hot_target = torch.tensor([[1, 0]])\n",
    "\n",
    "criterion = CrossEntropyLoss()\n",
    "\n",
    "print('This is our loss function value:', criterion(scores.double(), one_hot_target.double()))"
   ]
  },
  {
   "cell_type": "code",
   "execution_count": 94,
   "metadata": {},
   "outputs": [
    {
     "name": "stdout",
     "output_type": "stream",
     "text": [
      "This is our loss function value: tensor(0.8131, dtype=torch.float64)\n",
      "\n",
      "Let's understand what this value means:\n",
      "0.0 - 0.3: Excellent! Model is very confident and correct\n",
      "0.3 - 0.5: Good! Model is learning well\n",
      "0.5 - 1.0: Okay, but needs improvement\n",
      "1.0 - 2.0: Poor performance, model is struggling\n",
      "> 2.0: Very poor, model might be making very confident wrong predictions\n",
      "\n",
      "✨ Your current loss is OKAY, but could be better\n"
     ]
    }
   ],
   "source": [
    "import torch\n",
    "from torch.nn import CrossEntropyLoss\n",
    "\n",
    "scores = torch.tensor([[-0.1211, 0.1059]])\n",
    "one_hot_target = torch.tensor([[1, 0]])\n",
    "criterion = CrossEntropyLoss()\n",
    "\n",
    "loss_value = criterion(scores.double(), one_hot_target.double())\n",
    "print('This is our loss function value:', loss_value)\n",
    "\n",
    "print(\"\\nLet's understand what this value means:\")\n",
    "print(\"0.0 - 0.3: Excellent! Model is very confident and correct\")\n",
    "print(\"0.3 - 0.5: Good! Model is learning well\")\n",
    "print(\"0.5 - 1.0: Okay, but needs improvement\")\n",
    "print(\"1.0 - 2.0: Poor performance, model is struggling\")\n",
    "print(\"> 2.0: Very poor, model might be making very confident wrong predictions\")\n",
    "\n",
    "if loss_value < 0.3:\n",
    "    print(\"\\n✨ Your current loss is EXCELLENT!\")\n",
    "elif loss_value < 0.5:\n",
    "    print(\"\\n✨ Your current loss is GOOD!\")\n",
    "elif loss_value < 1.0:\n",
    "    print(\"\\n✨ Your current loss is OKAY, but could be better\")\n",
    "elif loss_value < 2.0:\n",
    "    print(\"\\n✨ Your current loss needs significant improvement\")\n",
    "else:\n",
    "    print(\"\\n✨ Your current loss indicates serious problems\")"
   ]
  },
  {
   "cell_type": "markdown",
   "metadata": {},
   "source": [
    "### Loss function takes:\n",
    "\n",
    "- **scores**: Model predictions before the final softmax function\n",
    "- **one_hot_target**: One-hot encoded ground truth label\n",
    "\n",
    "### Loss function outputs:\n",
    "\n",
    "- **loss**: A single float value\n",
    "\n",
    "# ✨ **Our training goal is to minimize this loss!** The lower the loss, the better the model! ✨"
   ]
  },
  {
   "cell_type": "markdown",
   "metadata": {},
   "source": [
    "## Exercise 2.3\n",
    "\n",
    "### Creating one-hot encoded labels\n",
    "\n",
    "One-hot encoding is a technique that turns a single integer label into a vector of N elements, where N is the number of classes in your dataset. This vector only contains zeros and ones. In this exercise, you'll create the one-hot encoded vector of the label y provided.\n",
    "\n",
    "You'll practice doing this manually, and then make your life easier by leveraging the help of PyTorch! Your dataset contains three classes.\n",
    "\n",
    "NumPy is already imported as np, and torch.nn.functional as F. The torch package is also imported.\n",
    "\n",
    "- Manually create a one-hot encoded vector of the ground truth label y by filling in the NumPy array provided.\n",
    "- Create a one-hot encoded vector of the ground truth label y using PyTorch."
   ]
  },
  {
   "cell_type": "code",
   "execution_count": 95,
   "metadata": {},
   "outputs": [
    {
     "name": "stdout",
     "output_type": "stream",
     "text": [
      "[0 1 0] and tensor([0, 1, 0])\n"
     ]
    }
   ],
   "source": [
    "import torch\n",
    "import torch.nn.functional as F\n",
    "import numpy as np\n",
    "\n",
    "y = 1\n",
    "num_classes = 3\n",
    "\n",
    "# Create the one-hot encoded vector using NumPy\n",
    "one_hot_numpy = np.array([0, 1, 0])\n",
    "\n",
    "# Create the one-hot encoded vector using PyTorch\n",
    "one_hot_pytorch = F.one_hot(torch.tensor(y), num_classes)\n",
    "\n",
    "print(one_hot_numpy, 'and', one_hot_pytorch)"
   ]
  },
  {
   "cell_type": "markdown",
   "metadata": {},
   "source": [
    "## Exercise 2.4\n",
    "\n",
    "### Calculating cross entropy loss\n",
    "Cross entropy loss is the most used loss for classification problems. In this exercise, you will create inputs and calculate cross entropy loss in PyTorch. You are provided with the ground truth label y and a vector of scores predicted by your model.\n",
    "\n",
    "You'll start by creating a one-hot encoded vector of the ground truth label y, which is a required step to compare y with the scores predicted by your model. Next, you'll create a cross entropy loss function. Last, you'll call the loss function, which takes scores (model predictions before the final softmax function), and the one-hot encoded ground truth label, as inputs. It outputs a single float, the loss of that sample."
   ]
  },
  {
   "cell_type": "markdown",
   "metadata": {},
   "source": [
    "### Instruction 1/3\n",
    "Create the one-hot encoded vector of the ground truth label y and assign it to one_hot_label."
   ]
  },
  {
   "cell_type": "code",
   "execution_count": 96,
   "metadata": {},
   "outputs": [
    {
     "data": {
      "text/plain": [
       "tensor([[0, 0, 1, 0]])"
      ]
     },
     "execution_count": 96,
     "metadata": {},
     "output_type": "execute_result"
    }
   ],
   "source": [
    "import torch\n",
    "import torch.nn.functional as F\n",
    "from torch.nn import CrossEntropyLoss\n",
    "\n",
    "y = [2]\n",
    "scores = torch.tensor([[0.1, 6.0, -2.0, 3.2]])\n",
    "\n",
    "# Create a one-hot encoded vector of the label y\n",
    "one_hot_label = F.one_hot(torch.tensor(y), num_classes=4)\n",
    "\n",
    "one_hot_label"
   ]
  },
  {
   "cell_type": "markdown",
   "metadata": {},
   "source": [
    "### Instruction 2/3\n",
    "\n",
    "Create the cross entropy loss function and store it as criterion."
   ]
  },
  {
   "cell_type": "code",
   "execution_count": 97,
   "metadata": {},
   "outputs": [],
   "source": [
    "import torch\n",
    "import torch.nn.functional as F\n",
    "from torch.nn import CrossEntropyLoss\n",
    "\n",
    "y = [2]\n",
    "scores = torch.tensor([[0.1, 6.0, -2.0, 3.2]])\n",
    "\n",
    "# Create a one-hot encoded vector of the label y\n",
    "one_hot_label = F.one_hot(torch.tensor(y), num_classes = scores.shape[1])\n",
    "\n",
    "# Create the cross entropy loss function\n",
    "criterion = CrossEntropyLoss()"
   ]
  },
  {
   "cell_type": "markdown",
   "metadata": {},
   "source": [
    "### Instruction 3/3\n",
    "\n",
    "Calculate the cross entropy loss using the one_hot_label vector and the scores vector, by calling the loss_function you created."
   ]
  },
  {
   "cell_type": "code",
   "execution_count": 98,
   "metadata": {},
   "outputs": [
    {
     "name": "stdout",
     "output_type": "stream",
     "text": [
      "tensor(8.0619, dtype=torch.float64)\n"
     ]
    }
   ],
   "source": [
    "import torch\n",
    "import torch.nn.functional as F\n",
    "from torch.nn import CrossEntropyLoss\n",
    "\n",
    "y = [2]\n",
    "scores = torch.tensor([[0.1, 6.0, -2.0, 3.2]])\n",
    "\n",
    "# Create a one-hot encoded vector of the label y\n",
    "one_hot_label = F.one_hot(torch.tensor(y), scores.shape[1])\n",
    "\n",
    "# Create the cross entropy loss function\n",
    "criterion = CrossEntropyLoss()\n",
    "\n",
    "# Calculate the cross entropy loss\n",
    "loss = criterion(scores.double(), one_hot_label.double())\n",
    "print(loss)"
   ]
  },
  {
   "cell_type": "markdown",
   "metadata": {},
   "source": [
    "# Using Derivatives to Update Model Parameters: A Treasure Hunt Analogy\n",
    "\n",
    "![derivatives_analogy](../images/derivatives_analogy.png)\n",
    "\n",
    "> Note: Gradient is often used interchangeably with the term \"Derivative\" in machine learning contexts.\n",
    "\n",
    "## The Treasure Hunt Game: An Analogy for Gradient Descent\n",
    "\n",
    "Imagine you're playing a unique video game where you must find a hidden treasure in a vast, hilly park while blindfolded. This game serves as an excellent analogy for how we train machine learning models using gradients.\n",
    "\n",
    "### Game Rules:\n",
    "1. Start at a random location in the park.\n",
    "2. Feel the ground around you to determine the downhill direction.\n",
    "3. Take a small step in that downhill direction.\n",
    "4. Repeat steps 2 and 3 until you can't go any lower.\n",
    "\n",
    "This process mirrors gradient descent in machine learning!\n",
    "\n",
    "## Mapping the Game to Machine Learning Concepts\n",
    "\n",
    "### The Park = The \"Loss Landscape\"\n",
    "- In machine learning, we have a \"loss landscape\" instead of a physical park.\n",
    "- The lowest point in this landscape represents the optimal model performance.\n",
    "\n",
    "### You = The Learning Algorithm\n",
    "- Just as you search for the treasure, the learning algorithm seeks the best way to make predictions.\n",
    "\n",
    "### Feeling the Ground = Calculating Gradients\n",
    "- When you feel the ground to determine the downhill direction, it's akin to calculating gradients in machine learning.\n",
    "- Gradients indicate which direction will most improve our model.\n",
    "\n",
    "### Taking Steps = Updating the Model\n",
    "- Each step in the game is like updating the model's parameters (weights and biases).\n",
    "- We aim to incrementally improve the model with each update.\n",
    "\n",
    "### The Treasure = The Best Model\n",
    "- The treasure at the lowest point represents the optimal version of our model, where it makes the most accurate predictions.\n",
    "\n",
    "## Important Concepts\n",
    "\n",
    "### Learning Rate = Step Size\n",
    "In the game, the size of your steps is crucial:\n",
    "- Tiny steps: You'll eventually reach the goal, but it might take a very long time.\n",
    "- Huge leaps: You might overshoot and miss the lowest point entirely.\n",
    "\n",
    "> In machine learning, we call this the \"learning rate.\" It's similar to choosing your character's walking speed in the game.\n",
    "\n",
    "### Local Minima = Small Dips\n",
    "Imagine small holes in the park that aren't the true lowest point. In machine learning, we call these \"local minima.\" They can trick us into thinking we've found the optimal solution when we haven't.\n",
    "\n",
    "### Convergence = Finding the Treasure\n",
    "When you finally reach the lowest point and find the treasure, that's called \"convergence\" in machine learning. It signifies that we've found the best version of our model.\n",
    "\n",
    "## Why this is Fascinating\n",
    "\n",
    "Just as this game helps you find treasure without visual cues, gradient descent enables computers to learn complex tasks autonomously. Some impressive applications include:\n",
    "\n",
    "- Facial recognition in photos\n",
    "- Language translation\n",
    "- Playing sophisticated games like chess\n",
    "\n",
    "The most remarkable aspect? The computer learns to perform these tasks independently, simply by taking small, calculated steps in the right direction, guided by gradients!\n",
    "\n",
    "![Connecting-derivatives-and-model-training](../images/Connecting-derivatives-and-model-training.png)"
   ]
  },
  {
   "cell_type": "markdown",
   "metadata": {},
   "source": [
    "## Below is an example of Backpropagation\n",
    "---\n",
    "\n",
    "I'll break down this code and explain what's happening in a simple way, using analogies where helpful.\n",
    "\n",
    "## Overview\n",
    "This code demonstrates a basic neural network that processes data through multiple layers and then learns from its mistakes using backpropagation. Think of it like a student solving a math problem, checking the answer, and then learning from their mistakes.\n",
    "\n",
    "## Code Breakdown\n",
    "\n",
    "### 1. Data Preparation\n",
    "```python\n",
    "sample = torch.tensor([\n",
    "    [0.4823, -0.2314, 0.7651, -0.5982, 0.1245, 0.8976, -0.7634, 0.3217,\n",
    "     -0.9012, 0.5678, -0.1543, 0.6789, 0.2345, -0.8765, 0.4321, -0.6543]\n",
    "])\n",
    "```\n",
    "- This creates our input data with 16 numbers\n",
    "- Think of these numbers as 16 different features about something we're trying to predict\n",
    "- Like having 16 different pieces of information about a house (size, age, location, etc.) to predict its price"
   ]
  },
  {
   "cell_type": "code",
   "execution_count": 99,
   "metadata": {},
   "outputs": [],
   "source": [
    "import torch\n",
    "import torch.nn as nn\n",
    "\n",
    "# Create a sample tensor with shape (1, 16) to match the input size of the first layer\n",
    "sample = torch.tensor([\n",
    "    [0.4823, -0.2314, 0.7651, -0.5982, 0.1245, 0.8976, -0.7634, 0.3217,\n",
    "     -0.9012, 0.5678, -0.1543, 0.6789, 0.2345, -0.8765, 0.4321, -0.6543]\n",
    "])"
   ]
  },
  {
   "cell_type": "markdown",
   "metadata": {},
   "source": [
    "### 2. Model Architecture\n",
    "```python\n",
    "model = nn.Sequential(\n",
    "    nn.Linear(16, 8),\n",
    "    nn.Linear(8, 4),\n",
    "    nn.Linear(4, 2)\n",
    ")\n",
    "```\n",
    "This creates a neural network with three layers:\n",
    "- First layer: Takes 16 inputs and produces 8 outputs\n",
    "- Second layer: Takes those 8 values and produces 4 outputs\n",
    "- Final layer: Takes 4 values and produces 2 outputs\n",
    "It's like a funnel that gradually processes and condenses information."
   ]
  },
  {
   "cell_type": "code",
   "execution_count": 100,
   "metadata": {},
   "outputs": [],
   "source": [
    "# Create the model and run a forward pass\n",
    "model = nn.Sequential(\n",
    "    nn.Linear(16, 8),\n",
    "    nn.Linear(8, 4),\n",
    "    nn.Linear(4, 2)\n",
    ")"
   ]
  },
  {
   "cell_type": "markdown",
   "metadata": {},
   "source": [
    "### 3. Forward Pass\n",
    "```python\n",
    "prediction = model(sample)\n",
    "```\n",
    "- This is where the data flows through our network\n",
    "- Like a assembly line where each station (layer) processes the information\n",
    "- The input goes through each layer, getting transformed until we get our final prediction\n",
    "\n"
   ]
  },
  {
   "cell_type": "code",
   "execution_count": 101,
   "metadata": {},
   "outputs": [],
   "source": [
    "prediction = model(sample)"
   ]
  },
  {
   "cell_type": "markdown",
   "metadata": {},
   "source": [
    "### 4. Loss Calculation and Backpropagation\n",
    "```python\n",
    "criterion = nn.CrossEntropyLoss()\n",
    "target = torch.tensor([1])\n",
    "loss = criterion(prediction, target)\n",
    "loss.backward()\n",
    "```\n",
    "This is where the learning happens:\n",
    "1. `criterion = nn.CrossEntropyLoss()`: Defines how we measure mistakes\n",
    "   - Like having a scoring system to grade an answer\n",
    "2. `target = torch.tensor()`: Sets the correct answer we're aiming for\n",
    "3. `loss = criterion(prediction, target)`: Calculates how wrong our prediction was\n",
    "4. `loss.backward()`: This is the magical part where the network learns\n",
    "   - It's like tracing back through your work to find where you made mistakes\n",
    "   - The network adjusts its internal numbers (weights and biases) to do better next time"
   ]
  },
  {
   "cell_type": "code",
   "execution_count": 102,
   "metadata": {},
   "outputs": [],
   "source": [
    "# Calculate the loss and compute the gradients\n",
    "criterion = nn.CrossEntropyLoss()\n",
    "target = torch.tensor([1])  # Assuming a single target class for this example\n",
    "loss = criterion(prediction, target)\n",
    "loss.backward()"
   ]
  },
  {
   "cell_type": "markdown",
   "metadata": {},
   "source": [
    "### 5. Accessing Gradients\n",
    "```python\n",
    "model[0].weight.grad, model[0].bias.grad\n",
    "model[1].weight.grad, model[1].bias.grad\n",
    "model[2].weight.grad, model[2].bias.grad\n",
    "```\n",
    "- These lines look at how much each part of the network needs to change\n",
    "- Think of it as a report card for each layer, showing where improvements are needed\n",
    "- The gradients tell us which direction and how much to adjust each parameter\n"
   ]
  },
  {
   "cell_type": "code",
   "execution_count": 103,
   "metadata": {},
   "outputs": [
    {
     "data": {
      "text/plain": [
       "(tensor([[-0.0707, -0.0161,  0.2050, -0.0543],\n",
       "         [ 0.0707,  0.0161, -0.2050,  0.0543]]),\n",
       " tensor([ 0.4731, -0.4731]))"
      ]
     },
     "execution_count": 103,
     "metadata": {},
     "output_type": "execute_result"
    }
   ],
   "source": [
    "# Access each layer's gradients\n",
    "model[0].weight.grad, model[0].bias.grad\n",
    "model[1].weight.grad, model[1].bias.grad\n",
    "model[2].weight.grad, model[2].bias.grad"
   ]
  },
  {
   "cell_type": "markdown",
   "metadata": {},
   "source": [
    "## Understanding the Output of the code above ⬆︎\n",
    "\n",
    "This output shows the gradients (suggested changes) for the weights and biases of one of the layers in your neural network. Let's break it down:\n",
    "\n",
    "### First Part (Weight Gradients)\n",
    "```python\n",
    "tensor([[ 0.1811,  0.2281, -0.2075, -0.0432],\n",
    "        [-0.1811, -0.2281,  0.2075,  0.0432]])\n",
    "```\n",
    "- This is a 2×4 matrix of gradients for the weights\n",
    "- Each number represents how much and in which direction that particular weight should change\n",
    "- Positive numbers suggest increasing the weight\n",
    "- Negative numbers suggest decreasing the weight\n",
    "- Notice how the second row is exactly opposite to the first row (same numbers but opposite signs)\n",
    "\n",
    "### Second Part (Bias Gradients)\n",
    "```python\n",
    "tensor([ 0.5457, -0.5457])\n",
    "```\n",
    "- These are the gradients for the bias terms\n",
    "- Again, they're opposite numbers (one positive, one negative)\n",
    "- This suggests one bias needs to increase by 0.5457 while the other needs to decrease by the same amount\n",
    "\n",
    "## Real-world Analogy\n",
    "\n",
    "Imagine you're adjusting the controls of a radio:\n",
    "- The weight gradients (first part) are like instructions for fine-tuning multiple knobs:\n",
    "  - \"Turn this knob up by 0.1811\"\n",
    "  - \"Turn that knob down by 0.2075\"\n",
    "  - etc.\n",
    "- The bias gradients (second part) are like the main volume controls:\n",
    "  - \"Turn the left speaker up by 0.5457\"\n",
    "  - \"Turn the right speaker down by 0.5457\"\n",
    "\n",
    "The opposite signs in each row suggest this is likely the final layer of a binary classification problem, where the network is trying to decide between two categories. It's like a see-saw - when one side goes up, the other must go down by the same amount to maintain balance.\n",
    "\n",
    "These numbers are relatively small, which is good - it means the network is suggesting subtle adjustments rather than dramatic changes. This is typical of a network that's learning properly.\n",
    "\n",
    "Remember: These gradients are just suggestions for how to update the parameters. In actual training:\n",
    "1. These values would be multiplied by a learning rate (usually a small number like 0.01)\n",
    "2. The resulting values would then be used to update the actual weights and biases\n",
    "3. This process would repeat many times with new data until the network learns effectively"
   ]
  },
  {
   "cell_type": "code",
   "execution_count": 104,
   "metadata": {},
   "outputs": [
    {
     "data": {
      "text/plain": [
       "tensor([ 0.0566,  0.0739, -0.1505,  0.0997, -0.0820,  0.1738, -0.0234,  0.0563],\n",
       "       grad_fn=<SubBackward0>)"
      ]
     },
     "execution_count": 104,
     "metadata": {},
     "output_type": "execute_result"
    }
   ],
   "source": [
    "# Learning rate is typically small\n",
    "lr = 0.001\n",
    "\n",
    "# Update the weights\n",
    "weight = model[0].weight\n",
    "weight_grad = model[0].weight.grad\n",
    "weight = weight - lr * weight_grad\n",
    "\n",
    "# Update the biases\n",
    "bias = model[0].bias\n",
    "bias_grad = model[0].bias.grad\n",
    "bias = bias - lr * bias_grad\n",
    "\n",
    "bias"
   ]
  },
  {
   "cell_type": "markdown",
   "metadata": {},
   "source": [
    "![convex-and-non-convex-functions](../images/convex-and-non-convex-functions.png)\n",
    "\n",
    "## Gradient descent\n",
    "• For non-convex functions, we will use an iterative process such as gradient descent\n",
    "• In PyTorch, an optimizer takes care of weight updates\n",
    "• The most common optimizer is stochastic gradient descent (SGD)"
   ]
  },
  {
   "cell_type": "markdown",
   "metadata": {},
   "source": [
    "Let me explain the most important PyTorch optimizers and their use cases in simple terms.\n",
    "\n",
    "## Most Popular PyTorch Optimizers\n",
    "\n",
    "**1. Adam (Adaptive Moment Estimation)**\n",
    "- The most widely used optimizer that combines the best properties of other optimizers\n",
    "- Best for:\n",
    "  - Deep neural networks\n",
    "  - Noisy data\n",
    "  - Large datasets\n",
    "  - When you're unsure which optimizer to use\n",
    "\n",
    "**2. SGD (Stochastic Gradient Descent)**\n",
    "- The classic, basic optimizer\n",
    "- Best for:\n",
    "  - Simple models\n",
    "  - When you want predictable behavior\n",
    "  - When you need to understand exactly how the model is learning\n",
    "\n",
    "**3. AdamW**\n",
    "- A variant of Adam that handles weight decay better\n",
    "- Best for:\n",
    "  - Large language models\n",
    "  - Transfer learning\n",
    "  - When regularization is important\n",
    "\n",
    "**4. RMSprop**\n",
    "- Adapts learning rates based on the magnitude of recent gradients\n",
    "- Best for:\n",
    "  - Recurrent Neural Networks (RNNs)\n",
    "  - When dealing with non-stationary problems\n",
    "  - Online learning scenarios\n",
    "\n",
    "**5. Adagrad**\n",
    "- Adapts learning rates for each parameter individually\n",
    "- Best for:\n",
    "  - Sparse data\n",
    "  - Natural language processing tasks\n",
    "  - When parameters need different learning rates\n",
    "\n",
    "## How to Use Optimizers\n",
    "\n",
    "Here's a simple pattern for using any optimizer in PyTorch:\n",
    "\n",
    "```python\n",
    "# Import the optimizer\n",
    "from torch.optim import OptimizerName\n",
    "\n",
    "# Create the optimizer\n",
    "optimizer = Optimizer Name(\n",
    "    model.parameters(),\n",
    "    lr=learning_rate,\n",
    "    other_parameters\n",
    ")\n",
    "\n",
    "# Training loop\n",
    "optimizer.zero_grad()  # Clear gradients\n",
    "loss.backward()       # Compute gradients\n",
    "optimizer.step()      # Update weights\n",
    "```\n",
    "\n",
    "## Choosing the Right Optimizer\n",
    "\n",
    "1. **Start with Adam**\n",
    "- It's the most versatile and works well in most situations[2]\n",
    "- Good default learning rate: 0.001\n",
    "\n",
    "2. **Try SGD with momentum**\n",
    "- If Adam isn't giving good results\n",
    "- Often gives better final results but takes longer to train\n",
    "- Good default learning rate: 0.01\n",
    "\n",
    "3. **Consider AdamW**\n",
    "- If you're working with large models\n",
    "- When regularization is important\n",
    "- Good default learning rate: 0.001\n",
    "\n",
    "## Tips for Using Optimizers\n",
    "\n",
    "1. **Learning Rate Matters**\n",
    "- Start with the recommended default learning rate for each optimizer\n",
    "- Use learning rate schedulers to adjust the rate during training\n",
    "\n",
    "2. **Monitor Training**\n",
    "- Watch the loss curve\n",
    "- If loss is unstable: reduce learning rate\n",
    "- If loss decreases too slowly: increase learning rate\n",
    "\n",
    "3. **Combine with Proper Initialization**\n",
    "- Good weight initialization helps optimizers work better\n",
    "- Consider using techniques like Xavier or Kaiming initialization\n",
    "\n",
    "Remember, the choice of optimizer can significantly impact your model's performance, but it's not the only factor. Good data preprocessing, model architecture, and hyperparameter tuning are equally important for successful training."
   ]
  },
  {
   "cell_type": "code",
   "execution_count": 105,
   "metadata": {},
   "outputs": [
    {
     "data": {
      "text/plain": [
       "SGD (\n",
       "Parameter Group 0\n",
       "    dampening: 0\n",
       "    differentiable: False\n",
       "    foreach: None\n",
       "    fused: None\n",
       "    lr: 0.001\n",
       "    maximize: False\n",
       "    momentum: 0\n",
       "    nesterov: False\n",
       "    weight_decay: 0\n",
       ")"
      ]
     },
     "execution_count": 105,
     "metadata": {},
     "output_type": "execute_result"
    }
   ],
   "source": [
    "import torch.optim as optim\n",
    "\n",
    "# Create the optimizer\n",
    "optimizer = optim.SGD(model.parameters(), lr=0.001)\n",
    "\n",
    "optimizer"
   ]
  },
  {
   "cell_type": "markdown",
   "metadata": {},
   "source": [
    "## Exercise\n",
    "\n",
    "### Estimating a sample\n",
    "In previous exercises, you used linear layers to build networks.\n",
    "\n",
    "Recall that the operation performed by nn.Linear() is to take an input \n",
    " and apply the transformation \n",
    ", where \n",
    " and \n",
    " are two tensors (called the weight and bias).\n",
    "\n",
    "A critical part of training PyTorch models is to calculate gradients of the weight and bias tensors with respect to a loss function.\n",
    "\n",
    "In this exercise, you will calculate weight and bias tensor gradients using cross entropy loss and a sample of data.\n",
    "\n",
    "The following tensors are provided:\n",
    "\n",
    "weight: a 2 x 9 -element tensor\n",
    "bias: a 2 -element tensor\n",
    "preds: a 1 x 2 -element tensor containing the model predictions\n",
    "target: a 1 x 2 -element one-hot encoded tensor containing the ground-truth label\n",
    "\n",
    "### Instructions\n",
    "- Use the criterion you have defined to calculate the loss value with respect to the predictions and target values.\n",
    "- Compute the gradients of the cross entropy loss.\n",
    "- Display the gradients of the weight and bias tensors, in that order."
   ]
  },
  {
   "cell_type": "code",
   "execution_count": 106,
   "metadata": {},
   "outputs": [
    {
     "name": "stdout",
     "output_type": "stream",
     "text": [
      "Weight gradients:\n",
      "tensor([[-0.0279,  0.8420,  0.5403,  0.3917,  2.7796, -0.4396,  0.3951,  0.6509,\n",
      "          0.1947],\n",
      "        [ 0.0279, -0.8420, -0.5403, -0.3917, -2.7796,  0.4396, -0.3951, -0.6509,\n",
      "         -0.1947]])\n",
      "\n",
      "Bias gradients:\n",
      "tensor([ 0.9026, -0.9026])\n"
     ]
    }
   ],
   "source": [
    "import torch\n",
    "import torch.nn as nn\n",
    "\n",
    "# Given tensors (as specified in the problem)\n",
    "weight = torch.randn(2, 9, requires_grad=True)\n",
    "bias = torch.randn(2, requires_grad=True)\n",
    "\n",
    "# Create preds using weight and bias to ensure it has a grad_fn\n",
    "input_data = torch.randn(1, 9)  # Random input data\n",
    "preds = torch.matmul(input_data, weight.t()) + bias\n",
    "target = torch.tensor([[0, 1]])  # One-hot encoded ground-truth label\n",
    "\n",
    "# Define the criterion (loss function)\n",
    "criterion = nn.CrossEntropyLoss()\n",
    "\n",
    "# Calculate the loss\n",
    "loss = criterion(preds, target.float())\n",
    "\n",
    "# Compute the gradients of the cross entropy loss\n",
    "loss.backward()\n",
    "\n",
    "# Display the gradients of the weight and bias tensors, in that order\n",
    "print(\"Weight gradients:\")\n",
    "print(weight.grad)\n",
    "print(\"\\nBias gradients:\")\n",
    "print(bias.grad)"
   ]
  },
  {
   "cell_type": "markdown",
   "metadata": {},
   "source": [
    "## Exercise\n",
    "\n",
    "# Accessing the model parameters\n",
    "A PyTorch model created with the nn.Sequential() is a module that contains the different layers of your network. Recall that each layer parameter can be accessed by indexing the created model directly. In this exercise, you will practice accessing the parameters of different linear layers of a neural network. You won't be accessing the sigmoid.\n",
    "\n",
    "### Instructions\n",
    "- Access the weight parameter of the first linear layer.\n",
    "- Access the bias parameter of the second linear layer."
   ]
  },
  {
   "cell_type": "code",
   "execution_count": 107,
   "metadata": {},
   "outputs": [
    {
     "name": "stdout",
     "output_type": "stream",
     "text": [
      "Parameter containing:\n",
      "tensor([[ 0.1007,  0.1355, -0.2420,  0.2254, -0.1193,  0.1145, -0.2189, -0.1516,\n",
      "          0.0128, -0.1910, -0.0069, -0.0492,  0.1097, -0.0799, -0.1503,  0.1503],\n",
      "        [-0.2119,  0.1658,  0.2477,  0.0999, -0.1780, -0.1281, -0.0017,  0.0128,\n",
      "          0.1156,  0.1133, -0.2437,  0.1407, -0.0016, -0.0720,  0.1981, -0.2247],\n",
      "        [-0.1265,  0.1194,  0.1715, -0.1262, -0.2085,  0.1956,  0.0744,  0.2443,\n",
      "          0.1639, -0.1672, -0.0905,  0.0255,  0.1939, -0.0213, -0.2377,  0.1402],\n",
      "        [-0.1421,  0.0942,  0.1761,  0.1638,  0.1388,  0.1220, -0.0867,  0.0498,\n",
      "         -0.1881, -0.0315, -0.2321, -0.0553, -0.1652,  0.0274,  0.2247, -0.1296],\n",
      "        [-0.0181, -0.1084, -0.1627, -0.0601,  0.2452, -0.2261,  0.1423, -0.0453,\n",
      "         -0.1460,  0.1429, -0.1736, -0.1298,  0.1720, -0.1818, -0.1450, -0.0904],\n",
      "        [ 0.0860, -0.1848,  0.0547,  0.0688,  0.0832,  0.2113,  0.0006,  0.0357,\n",
      "          0.1193, -0.0926, -0.1847,  0.0498, -0.0193, -0.2232,  0.2341, -0.1690],\n",
      "        [ 0.1609, -0.1935,  0.0303, -0.1526,  0.0332, -0.2000, -0.1076,  0.1994,\n",
      "          0.0983,  0.1202, -0.2349, -0.0678,  0.0121,  0.1278, -0.1585,  0.0367],\n",
      "        [ 0.0469,  0.1542,  0.1159, -0.0802, -0.1117, -0.2207, -0.1406,  0.1643,\n",
      "          0.0759, -0.0848,  0.1901,  0.0302,  0.0200,  0.2373, -0.1199,  0.0275]],\n",
      "       requires_grad=True)\n",
      "Parameter containing:\n",
      "tensor([-0.0096, -0.2575], requires_grad=True)\n"
     ]
    }
   ],
   "source": [
    "model = nn.Sequential(nn.Linear(16, 8),\n",
    "                      nn.Linear(8, 2))\n",
    "\n",
    "# Access the weight of the first linear layer\n",
    "weight_0 = model[0].weight\n",
    "print(weight_0)\n",
    "\n",
    "# Access the bias of the second linear layer\n",
    "bias_1 = model[1].bias\n",
    "print(bias_1)"
   ]
  },
  {
   "cell_type": "markdown",
   "metadata": {},
   "source": [
    "## Exercise\n",
    "\n",
    "### Updating the weights manually\n",
    "Now that you know how to access weights and biases, you will manually perform the job of the PyTorch optimizer. PyTorch functions can do what you're about to do, but it's helpful to do the work manually at least once, to understand what's going on under the hood.\n",
    "\n",
    "A neural network of three layers has been created and stored as the model variable. This network has been used for a forward pass and the loss and its derivatives have been calculated. A default learning rate, lr, has been chosen to scale the gradients when performing the update.\n"
   ]
  },
  {
   "cell_type": "markdown",
   "metadata": {},
   "source": [
    "Instructions (1/2)\n",
    "\n",
    "1. Create the gradient variables by accessing the local gradients of each weight tensor."
   ]
  },
  {
   "cell_type": "code",
   "execution_count": 108,
   "metadata": {},
   "outputs": [],
   "source": [
    "model = nn.Sequential(nn.Linear(16, 8),\n",
    "                      nn.Linear(8, 4),\n",
    "                      nn.Linear(4, 2))\n",
    "\n",
    "weight0 = model[0].weight\n",
    "weight1 = model[1].weight\n",
    "weight2 = model[2].weight\n",
    "\n",
    "# Access the gradients of the weight of each linear layer\n",
    "grads0 = weight0.grad\n",
    "grads1 = weight1.grad\n",
    "grads2 = weight2.grad"
   ]
  },
  {
   "cell_type": "markdown",
   "metadata": {},
   "source": [
    "Instructions (2/2)\n",
    "\n",
    "2. Update the weights using the gradients scaled by the learning rate."
   ]
  },
  {
   "cell_type": "code",
   "execution_count": 109,
   "metadata": {},
   "outputs": [
    {
     "name": "stdout",
     "output_type": "stream",
     "text": [
      "tensor([[-0.1756,  0.2143, -0.0752,  0.1730,  0.0428, -0.1495, -0.1446, -0.1847,\n",
      "          0.0558,  0.2422, -0.1796, -0.1354, -0.1894, -0.2357, -0.1578,  0.2356],\n",
      "        [-0.1300, -0.1680, -0.0539, -0.1575,  0.0416,  0.2216,  0.1542,  0.2387,\n",
      "          0.2489,  0.1631,  0.0762, -0.1955,  0.1099, -0.1975, -0.1411, -0.1353],\n",
      "        [-0.0021,  0.2051,  0.0892,  0.1231, -0.0434,  0.0682,  0.1105,  0.1450,\n",
      "         -0.1151,  0.1737, -0.0711,  0.2478, -0.0625,  0.1525, -0.2411,  0.1311],\n",
      "        [-0.0559, -0.2201, -0.0776, -0.1542, -0.1778,  0.1919,  0.2357,  0.0771,\n",
      "         -0.1939, -0.0925, -0.0486,  0.2414, -0.2246,  0.2333, -0.1585, -0.1417],\n",
      "        [ 0.0357,  0.1407,  0.1312, -0.1572, -0.0731,  0.1397, -0.0980, -0.0729,\n",
      "         -0.2488, -0.1927,  0.0387, -0.1141, -0.1218, -0.2272, -0.0885,  0.0258],\n",
      "        [ 0.1934, -0.0135,  0.0656,  0.0805, -0.0890,  0.0421, -0.0442, -0.2401,\n",
      "         -0.1542, -0.0465, -0.1058, -0.1043,  0.1991,  0.0336, -0.0590,  0.1905],\n",
      "        [ 0.2330, -0.2056, -0.0172, -0.0916, -0.0895,  0.1224,  0.2165,  0.2371,\n",
      "         -0.0637,  0.1495, -0.0340,  0.1897, -0.1348,  0.0999, -0.1636, -0.0926],\n",
      "        [ 0.0396, -0.1237,  0.1302, -0.1927, -0.0669,  0.1801,  0.0384, -0.1149,\n",
      "         -0.2402,  0.1528,  0.1699,  0.2429,  0.0012,  0.2072,  0.0469, -0.0096]],\n",
      "       grad_fn=<SubBackward0>)\n",
      "tensor([[-0.3039,  0.1468,  0.0228,  0.2625,  0.2567,  0.3410, -0.1148, -0.2630],\n",
      "        [ 0.3355,  0.2923, -0.1378,  0.2380, -0.1565,  0.1189,  0.0742,  0.2019],\n",
      "        [-0.1422, -0.2386,  0.3158, -0.0527,  0.3268,  0.2594,  0.2852,  0.1418],\n",
      "        [ 0.0894, -0.1186, -0.1934, -0.2009, -0.1337, -0.2555,  0.0485, -0.3390]],\n",
      "       grad_fn=<SubBackward0>)\n",
      "tensor([[-0.1347,  0.3989, -0.0684,  0.3997],\n",
      "        [ 0.2599,  0.1738,  0.3817,  0.1524]], grad_fn=<SubBackward0>)\n"
     ]
    }
   ],
   "source": [
    "# 1. Create your model\n",
    "model = nn.Sequential(nn.Linear(16, 8),\n",
    "                     nn.Linear(8, 4),\n",
    "                     nn.Linear(4, 2))\n",
    "\n",
    "# 2. Create some sample data\n",
    "x = torch.randn(1, 16)  # Example input\n",
    "target = torch.randn(1, 2)  # Example target\n",
    "\n",
    "# 3. Forward pass\n",
    "output = model(x)\n",
    "\n",
    "# 4. Calculate loss\n",
    "loss = nn.MSELoss()(output, target)\n",
    "\n",
    "# 5. Backward pass\n",
    "loss.backward()\n",
    "\n",
    "# Now you can access the gradients!\n",
    "weight0 = model[0].weight\n",
    "weight1 = model[1].weight\n",
    "weight2 = model[2].weight\n",
    "\n",
    "grads0 = weight0.grad\n",
    "grads1 = weight1.grad\n",
    "grads2 = weight2.grad\n",
    "\n",
    "# Update weights\n",
    "lr = 0.001\n",
    "weight0 = weight0 - lr * grads0\n",
    "weight1 = weight1 - lr * grads1\n",
    "weight2 = weight2 - lr * grads2\n",
    "\n",
    "print(weight0)\n",
    "print(weight1)\n",
    "print(weight2)"
   ]
  },
  {
   "cell_type": "markdown",
   "metadata": {},
   "source": [
    "## Exercise\n",
    "\n",
    "### Using the PyTorch optimizer\n",
    "In the previous exercise, you manually updated the weight of a network. You now know what's going on under the hood, but this approach is not scalable to a network of many layers.\n",
    "\n",
    "Thankfully, the PyTorch SGD optimizer does a similar job in a handful of lines of code. In this exercise, you will practice the last step to complete the training loop: updating the weights using a PyTorch optimizer.\n",
    "\n",
    "A neural network has been created and provided as the model variable. This model was used to run a forward pass and create the tensor of predictions pred. The one-hot encoded tensor is named target and the cross entropy loss function is stored as criterion.\n",
    "\n",
    "torch.optim as optim, and torch.nn as nn have already been loaded for you."
   ]
  },
  {
   "cell_type": "markdown",
   "metadata": {},
   "source": [
    "Instructions (1/2)\n",
    "\n",
    "1. Use optim to create an SGD optimizer with a learning rate of your choice (must be less than one) for the model provided."
   ]
  },
  {
   "cell_type": "code",
   "execution_count": 110,
   "metadata": {},
   "outputs": [
    {
     "data": {
      "text/plain": [
       "SGD (\n",
       "Parameter Group 0\n",
       "    dampening: 0\n",
       "    differentiable: False\n",
       "    foreach: None\n",
       "    fused: None\n",
       "    lr: 0.001\n",
       "    maximize: False\n",
       "    momentum: 0\n",
       "    nesterov: False\n",
       "    weight_decay: 0\n",
       ")"
      ]
     },
     "execution_count": 110,
     "metadata": {},
     "output_type": "execute_result"
    }
   ],
   "source": [
    "import torch.optim as optim\n",
    "\n",
    "# Create the optimizer\n",
    "optimizer = optim.SGD(model.parameters(), lr=0.001)\n",
    "\n",
    "optimizer"
   ]
  },
  {
   "cell_type": "markdown",
   "metadata": {},
   "source": [
    "Instructions\n",
    "\n",
    "2. Update the model's parameters using the optimizer."
   ]
  },
  {
   "cell_type": "code",
   "execution_count": 111,
   "metadata": {},
   "outputs": [],
   "source": [
    "# # Create the optimizer\n",
    "# optimizer = optim.SGD(model.parameters(), lr=0.001)\n",
    "\n",
    "# loss = criterion(pred, target)\n",
    "# loss.backward()\n",
    "\n",
    "# # Update the model's parameters using the optimizer\n",
    "# optimizer.step()"
   ]
  },
  {
   "cell_type": "markdown",
   "metadata": {},
   "source": [
    "# Writing our first Training Loop!"
   ]
  },
  {
   "cell_type": "markdown",
   "metadata": {},
   "source": [
    "### Training a neural network\n",
    "\n",
    "1. Create a model\n",
    "2. Choose a loss function\n",
    "3. Create a dataset\n",
    "4. Define an optimizer\n",
    "5. Run a training loop, where for each sample of the dataset, we repeat:\n",
    "   1. Calculating loss (forward pass)\n",
    "   2. Calculating local gradients\n",
    "   3. Updating model parameters"
   ]
  },
  {
   "cell_type": "markdown",
   "metadata": {},
   "source": [
    "# Introducting the Mean Squared Error Loss \n",
    "\n",
    "## Understanding MSE with a Pizza Delivery Analogy\n",
    "\n",
    "Imagine you're a pizza delivery person trying to get better at estimating delivery times. You tell customers how long their pizza will take, and you want to measure how good your predictions are.\n",
    "\n",
    "Let's say for 3 deliveries:\n",
    "- You predicted 20 minutes, but it took 25 minutes\n",
    "- You predicted 30 minutes, but it took 28 minutes\n",
    "- You predicted 15 minutes, but it took 18 minutes\n",
    "\n",
    "MSE measures how \"wrong\" your predictions were by:\n",
    "1. Finding the difference between prediction and actual time\n",
    "2. Squaring these differences (to make negatives positive)\n",
    "3. Taking the average\n",
    "\n",
    "**Why squaring?** Think of it like this - if you're 5 minutes late or 5 minutes early, customers are equally unhappy. Squaring makes both positive and negative errors count the same way!"
   ]
  },
  {
   "cell_type": "markdown",
   "metadata": {},
   "source": [
    "## PyTorch Implementation\n",
    "\n",
    "Here's a simple example using PyTorch to calculate MSE for our pizza delivery predictions:"
   ]
  },
  {
   "cell_type": "code",
   "execution_count": 112,
   "metadata": {},
   "outputs": [
    {
     "name": "stdout",
     "output_type": "stream",
     "text": [
      "Mean Squared Error: 12.67\n",
      "This means that on average the prediction were off by about 3.56 minutes. (We calculated that by taking the square root of the Mean Squared Error value)\n"
     ]
    }
   ],
   "source": [
    "import torch\n",
    "import torch.nn as nn\n",
    "\n",
    "# Our pizza delivery predictions (in minutes)\n",
    "predictions = torch.tensor([20.0, 30.0, 15.0])\n",
    "\n",
    "# Actual delivery times (in minutes)\n",
    "actual_times = torch.tensor([25.0, 28.0, 18.0])\n",
    "\n",
    "# Create MSE loss function\n",
    "mse_loss = nn.MSELoss()\n",
    "\n",
    "# Calculate the loss\n",
    "loss = mse_loss(predictions, actual_times)\n",
    "\n",
    "print(f\"Mean Squared Error: {loss.item():.2f}\")\n",
    "\n",
    "print(f\"This means that on average the prediction were off by about {(loss.item()**0.5):.2f} minutes. (We calculated that by taking the square root of the Mean Squared Error value)\")"
   ]
  },
  {
   "cell_type": "markdown",
   "metadata": {},
   "source": [
    "In machine learning, we use this number to help our model improve. The model will try to make this number as small as possible, just like a pizza delivery person trying to get better at estimating delivery times!"
   ]
  },
  {
   "cell_type": "markdown",
   "metadata": {},
   "source": [
    "## Using the MSELoss\n",
    "For regression problems, we often use Mean Squared Error (MSE) as a loss function instead of cross-entropy. MSE calculates the squared difference between predicted values (y_pred) and actual values (y). In this exercise, you'll compute MSE loss using both NumPy and PyTorch.\n",
    "\n",
    "The torch package has been imported, along with numpy as np and torch.nn as nn."
   ]
  },
  {
   "cell_type": "markdown",
   "metadata": {},
   "source": [
    "- Calculate the MSELoss using NumPy.\n",
    "- Create a MSELoss function using PyTorch.\n",
    "- Convert y_pred and y to tensors and then float data types, and then use them to calculate MSELoss using PyTorch as mse_pytorch."
   ]
  },
  {
   "cell_type": "code",
   "execution_count": 113,
   "metadata": {},
   "outputs": [
    {
     "name": "stdout",
     "output_type": "stream",
     "text": [
      "tensor(81.)\n"
     ]
    }
   ],
   "source": [
    "y_pred = np.array(10)\n",
    "y = np.array(1)\n",
    "\n",
    "# Calculate the MSELoss using NumPy\n",
    "mse_numpy = np.mean((y_pred - y)**2)\n",
    "\n",
    "# Create the MSELoss function\n",
    "criterion = nn.MSELoss()\n",
    "\n",
    "# Calculate the MSELoss using the created loss function\n",
    "mse_pytorch = criterion(torch.tensor(y_pred).float(), torch.tensor(y).float())\n",
    "print(mse_pytorch)"
   ]
  },
  {
   "cell_type": "markdown",
   "metadata": {},
   "source": [
    "# Some terminology before we move forward\n",
    "\n",
    "### Epoch \n",
    "- If a variable called 'num_epoch' which defines the number of epochs = 3, this means we'll go through our entire dataset 3 times\n",
    "- Each time through helps our model learn better, like how reading a chapter multiple times helps you understand it better\n",
    "- Think of an epoch like a full study session of a textbook. When you're studying for a test, you might read through your textbook multiple times to really understand it. Each complete read-through is like one epoch.\n",
    "\n",
    "\n",
    "Imagine you're reading that textbook, but instead of trying to memorize the whole book at once, you break it into smaller chunks (like chapters):\n",
    "### batch_features \n",
    "- It is like getting a few math problems to solve\n",
    "\n",
    "### batch_labels \n",
    "- It is like having the answers to those problems\n",
    "\n",
    "### The dataloader\n",
    "- It is like your study guide that organizes these problems and answers into manageable chunks"
   ]
  },
  {
   "cell_type": "markdown",
   "metadata": {},
   "source": [
    "## Writing a training loop\n",
    "In scikit-learn, the training loop is wrapped in the .fit() method, while in PyTorch, it's set up manually. While this adds flexibility, it requires a custom implementation.\n",
    "\n",
    "In this exercise, you'll create a loop to train a model for salary prediction.\n",
    "\n",
    "The show_results() function is provided to help you visualize some sample predictions.\n",
    "\n",
    "The package imports provided are: pandas as pd, torch, torch.nn as nn, torch.optim as optim, as well as DataLoader and TensorDataset from torch.utils.data.\n",
    "\n",
    "The following variables have been created: dataloader, containing the dataloader; model, containing the neural network; criterion, containing the loss function, nn.MSELoss(); optimizer, containing the SGD optimizer; and num_epochs, containing the number of epochs."
   ]
  },
  {
   "cell_type": "markdown",
   "metadata": {},
   "source": [
    "### Instructions (1/3)\n",
    "- Write a for loop that iterates over the dataloader; this should be nested within a for loop that iterates over a range equal to the number of epochs.\n",
    "- Set the gradients of the optimizer to zero."
   ]
  },
  {
   "cell_type": "code",
   "execution_count": 114,
   "metadata": {},
   "outputs": [],
   "source": [
    "# # Loop over the number of epochs and then the dataloader\n",
    "# for epoch in range(num_epochs):\n",
    "#     for batch_features, bath_labels in dataloader:\n",
    "#         #Set the gradient to zero\n",
    "#         optimizer.zero_grad()"
   ]
  },
  {
   "cell_type": "markdown",
   "metadata": {},
   "source": [
    "The function -\n",
    "```python\n",
    "optimizer.zero_grad()\n",
    "```\n",
    "\n",
    "This is like erasing your scratch paper before solving a new math problem:\n",
    "In PyTorch, gradients accumulate by default (like keeping all your old work on the scratch paper)\n",
    "We need to clear them before each new calculation\n",
    "If we didn't do this, it would be like trying to solve a new problem while still having all your old work cluttering your paper"
   ]
  },
  {
   "cell_type": "markdown",
   "metadata": {},
   "source": [
    "### Instructions (2/3)\n",
    "\n",
    "- Write the forward pass.\n",
    "- Compute the MSE loss value using the criterion() function provided.\n",
    "- Compute the gradients."
   ]
  },
  {
   "cell_type": "code",
   "execution_count": 115,
   "metadata": {},
   "outputs": [],
   "source": [
    "# # Loop over the number of epochs and the dataloader\n",
    "# for i in range(num_epochs):\n",
    "#   for data in dataloader:\n",
    "#     # Set the gradients to zero\n",
    "#     optimizer.zero_grad()\n",
    "#     # Run a forward pass\n",
    "#     feature, target = data\n",
    "#     prediction = model(feature)\n",
    "#     # Calculate the loss\n",
    "#     loss = criterion(prediction, target)\n",
    "#     # Compute the gradients\n",
    "#     loss.backward()"
   ]
  },
  {
   "cell_type": "markdown",
   "metadata": {},
   "source": [
    "### Instructions (3/3)\n",
    "\n",
    "- Update the model's parameters."
   ]
  },
  {
   "cell_type": "code",
   "execution_count": 116,
   "metadata": {},
   "outputs": [],
   "source": [
    "# # Loop over the number of epochs and the dataloader\n",
    "# for i in range(num_epochs):\n",
    "#   for data in dataloader:\n",
    "#     # Set the gradients to zero\n",
    "#     optimizer.zero_grad()\n",
    "#     # Run a forward pass\n",
    "#     feature, target = data\n",
    "#     prediction = model(feature)    \n",
    "#     # Calculate the loss\n",
    "#     loss = criterion(prediction, target)    \n",
    "#     # Compute the gradients\n",
    "#     loss.backward()\n",
    "#     # Update the model's parameters\n",
    "#     optimizer.step()\n",
    "# show_results(model, dataloader)"
   ]
  },
  {
   "cell_type": "markdown",
   "metadata": {},
   "source": [
    "# Section 3 - Neural Network Architecture and Hyperparameters\n",
    "-----\n",
    "\n",
    "Hyperparameters are parameters, often chosen by the user, that control model training. The type of activation function, the number of layers in the model, and the learning rate are all hyperparameters of neural network training. Together, we will discover the most critical hyperparameters of a neural network and how to modify them."
   ]
  },
  {
   "cell_type": "markdown",
   "metadata": {},
   "source": [
    "## Introducing ReLU (Rectified Linear Unit) and LeakyReLU\n",
    "- ### These 2 are also Activation Functions like Sigmoid and SoftMax\n",
    "\n",
    "## ReLU (Rectified Linear Unit)\n",
    "\n",
    "Think of ReLU as a bouncer at a fancy nightclub who has one simple rule: \"If you're under 0, you're not getting in!\" Here's how it works:\n",
    "\n",
    "- If a number is positive, the bouncer lets it pass through unchanged\n",
    "- If a number is negative, the bouncer turns it into zero\n",
    "\n",
    "Imagine you're playing with a light switch dimmer:\n",
    "- When you push the dimmer up (positive values), the light gets brighter\n",
    "- But when you try to push it below zero, instead of getting \"negative light,\" the light just stays completely off\n",
    "\n",
    "This is exactly what ReLU does - it's like a one-way street that only allows positive traffic.\n",
    "\n",
    "**The Problem with ReLU**\n",
    "Here's where it gets tricky. Sometimes, when ReLU keeps turning negative values to zero, it's like giving someone the silent treatment - they can't learn or improve because they're getting no feedback at all. Scientists call this the \"dying ReLU problem\".\n",
    "\n",
    "## Leaky ReLU\n",
    "\n",
    "Now, imagine instead of a strict bouncer, we have a more lenient one who says, \"If you're under 0, I'll still let you in, but I'll make you really tiny first.\"\n",
    "\n",
    "Think of Leaky ReLU like a leaky faucet:\n",
    "- When it's turned on (positive values), water flows normally\n",
    "- When it's turned off (negative values), it still drips a tiny bit of water instead of being completely dry\n",
    "\n",
    "The \"leak\" is usually a small fraction (like 0.01) of the negative value that's allowed to pass through. It's like saying \"Instead of completely ignoring negative values, let's at least listen to them a tiny bit.\"\n",
    "\n",
    "**Why Leaky ReLU is Often Better**\n",
    "Going back to our nightclub analogy:\n",
    "- Regular ReLU is like a bouncer who completely ignores rejected people\n",
    "- Leaky ReLU is like a bouncer who at least gives rejected people some feedback on why they were rejected, helping them improve for next time\n",
    "\n",
    "This small change helps prevent the \"dying\" problem because even negative values get a chance to contribute and learn, just at a much smaller scale.\n",
    "\n",
    "Think of it like learning from mistakes:\n",
    "- ReLU completely ignores mistakes (negative values)\n",
    "- Leaky ReLU learns a little bit even from mistakes, making it more resilient and adaptive\n",
    "\n",
    "This is why Leaky ReLU often performs better in deep neural networks - it keeps all neurons \"alive\" and learning, even if they make mistakes along the way."
   ]
  },
  {
   "cell_type": "markdown",
   "metadata": {},
   "source": [
    "## Exercise\n",
    "\n",
    "### Implementing ReLU\n",
    "The rectified linear unit (or ReLU) function is one of the most common activation functions in deep learning.\n",
    "\n",
    "It overcomes the training problems linked with the sigmoid function you learned, such as the vanishing gradients problem.\n",
    "\n",
    "In this exercise, you'll begin with a ReLU implementation in PyTorch. Next, you'll calculate the gradients of the function.\n",
    "\n",
    "The nn module has already been imported for you."
   ]
  },
  {
   "cell_type": "markdown",
   "metadata": {},
   "source": [
    "### Instructions (1/2)\n",
    "\n",
    "- Create a ReLU function in PyTorch."
   ]
  },
  {
   "cell_type": "code",
   "execution_count": 117,
   "metadata": {},
   "outputs": [],
   "source": [
    "import torch\n",
    "import torch.nn as nn\n",
    "\n",
    "# Create a ReLU function with PyTorch\n",
    "relu_pytorch = nn.ReLU()"
   ]
  },
  {
   "cell_type": "markdown",
   "metadata": {},
   "source": [
    "### Instructions (2/2)\n",
    "\n",
    "- Calculate the gradient of the ReLU function for x using the relu_pytorch() function you defined, then running a backward pass.\n",
    "- Find the gradient at x."
   ]
  },
  {
   "cell_type": "code",
   "execution_count": 118,
   "metadata": {},
   "outputs": [
    {
     "name": "stdout",
     "output_type": "stream",
     "text": [
      "tensor(0.)\n"
     ]
    }
   ],
   "source": [
    "import torch\n",
    "import torch.nn as nn\n",
    "\n",
    "# Create a ReLU function with PyTorch\n",
    "relu_pytroch = nn.ReLU()\n",
    "\n",
    "# Apply the ReLU function on x, and calculate gradients\n",
    "x = torch.tensor(-1.0, requires_grad=True)\n",
    "y = relu_pytorch(x)\n",
    "\n",
    "y.backward()\n",
    "\n",
    "#Print the gradient of the ReLU function for x\n",
    "gradient = x.grad\n",
    "print(gradient)"
   ]
  },
  {
   "cell_type": "markdown",
   "metadata": {},
   "source": [
    "## Exercise\n",
    "\n",
    "### Implementing leaky ReLU\n",
    "You've learned that ReLU is one of the most used activation functions in deep learning. You will find it in modern architecture. However, it does have the inconvenience of outputting null values for negative inputs and therefore, having null gradients. Once an element of the input is negative, it will be set to zero for the rest of the training. Leaky ReLU overcomes this challenge by using a multiplying factor for negative inputs.\n",
    "\n",
    "In this exercise, you will implement the leaky ReLU function in NumPy and PyTorch and practice using it. The numpy as np package, the torch package as well as the torch.nn as nn have already been imported."
   ]
  },
  {
   "cell_type": "markdown",
   "metadata": {},
   "source": [
    "### Instructions (1/2)\n",
    "\n",
    "- Create a leaky ReLU function in PyTorch with a negative slope of 0.05.\n",
    "- Call the function on the tensor x, which has already been defined for you."
   ]
  },
  {
   "cell_type": "code",
   "execution_count": 119,
   "metadata": {},
   "outputs": [
    {
     "name": "stdout",
     "output_type": "stream",
     "text": [
      "tensor(-0.1000)\n"
     ]
    }
   ],
   "source": [
    "import torch\n",
    "import torch.nn as nn\n",
    "\n",
    "# Create a leaky relu function in PyTorch\n",
    "leaky_relu_pytorch = nn.LeakyReLU(negative_slope=0.05)\n",
    "\n",
    "x = torch.tensor(-2.0)\n",
    "\n",
    "# Call the above function on the tensor x\n",
    "output = leaky_relu_pytorch(x)\n",
    "print(output)"
   ]
  },
  {
   "cell_type": "markdown",
   "metadata": {},
   "source": [
    "###  Parameter Counting\n",
    "\n",
    "---\n",
    "# Let's count the parameters in a neural network using a simple example:\n",
    "\n",
    "### Here's the code we'll analyze:\n",
    "\n",
    "```python\n",
    "model = nn.Sequential(nn.Linear(8, 4),\n",
    "                      nn.Linear(4, 2))\n",
    "```\n",
    "\n",
    "## The Restaurant Kitchen Model\n",
    "\n",
    "Think of a neural network as a restaurant kitchen with multiple cooking stations (layers):\n",
    "\n",
    "**First Layer (8 inputs → 4 stations)**\n",
    "- You have 4 cooking stations (neurons)\n",
    "- Each station receives ingredients from 8 suppliers (inputs)\n",
    "- Each ingredient needs a measuring scale (weight)\n",
    "- Each station also has a master seasoning control (bias)\n",
    "- So each station needs: 8 measuring scales + 1 seasoning control = 9 parameters\n",
    "- Total for all stations: 4 stations × 9 parameters = 36 parameters\n",
    "\n",
    "**Second Layer (4 stations → 2 final plates)**\n",
    "- You have 2 final plating stations (output neurons)\n",
    "- Each receives dishes from all 4 cooking stations\n",
    "- Each plating station needs 4 portion controls (weights)\n",
    "- Each also has a final taste adjuster (bias)\n",
    "- So each plating station needs: 4 portion controls + 1 taste adjuster = 5 parameters\n",
    "- Total for plating: 2 stations × 5 parameters = 10 parameters\n",
    "\n",
    "**Why This Matters**\n",
    "- Just as a kitchen needs to know its equipment capacity, neural networks need to track their parameters\n",
    "- Too few parameters (like too few cooking tools) = limited menu options\n",
    "- Too many parameters (like too many unnecessary tools) = wasteful and harder to manage\n",
    "- The right number of parameters (like a well-equipped kitchen) = efficient operation and good results\n",
    "\n",
    "This kitchen setup, with its total of 46 parameters (cooking controls), represents the complete \"recipe-making capability\" of your neural network."
   ]
  },
  {
   "cell_type": "markdown",
   "metadata": {},
   "source": [
    "### Exercise\n",
    "\n",
    "Counting the number of parameters\n",
    "Deep learning models are famous for having a lot of parameters. Recent language models have billions of parameters. With more parameters comes more computational complexity and longer training times, and a deep learning practitioner must know how many parameters their model has.\n",
    "\n",
    "In this exercise, you will calculate the number of parameters in your model, first manually, and then using PyTorch."
   ]
  },
  {
   "cell_type": "markdown",
   "metadata": {},
   "source": [
    "### Instructions (1/2)\n",
    "\n",
    "- Calculate manually the number of parameters of the model below. How many does it have?\n",
    "\n",
    "```python\n",
    "model = nn.Sequential(nn.Linear(16, 4),\n",
    "                      nn.Linear(4, 2),\n",
    "                      nn.Linear(2, 1))\n",
    "```"
   ]
  },
  {
   "cell_type": "code",
   "execution_count": 120,
   "metadata": {},
   "outputs": [
    {
     "name": "stdout",
     "output_type": "stream",
     "text": [
      "The total number of parameters are 81\n"
     ]
    }
   ],
   "source": [
    "print('The total number of parameters are', ((16+1)*4)+((4+1)*2)+((2+1)*1))"
   ]
  },
  {
   "cell_type": "markdown",
   "metadata": {},
   "source": [
    "### Instructions (2/2)\n",
    "\n",
    "- Now, confirm your manual calculation by iterating through the model's parameters to update the total variable with the total number of parameters in the model."
   ]
  },
  {
   "cell_type": "code",
   "execution_count": 121,
   "metadata": {},
   "outputs": [
    {
     "name": "stdout",
     "output_type": "stream",
     "text": [
      "The number of parameters in the model is 81\n"
     ]
    }
   ],
   "source": [
    "import torch\n",
    "import torch.nn as nn\n",
    "\n",
    "model = nn.Sequential(nn.Linear(16, 4),\n",
    "                      nn.Linear(4, 2),\n",
    "                      nn.Linear(2, 1))\n",
    "\n",
    "total = 0\n",
    "\n",
    "# Calculate the number of parameters in the model\n",
    "for p in model.parameters():\n",
    "  total += p.numel()\n",
    "  \n",
    "print(f\"The number of parameters in the model is {total}\")"
   ]
  },
  {
   "cell_type": "markdown",
   "metadata": {},
   "source": [
    "### What the code above does\n",
    "\n",
    "## Understanding the Parameter Counter\n",
    "\n",
    "**Setting Up the Counter**\n",
    "```python\n",
    "total = 0\n",
    "```\n",
    "Think of `total = 0` like starting with an empty jar where you'll collect marbles. Before you start counting your marbles, you need to make sure your jar is empty. That's exactly what `total = 0` does - it creates our empty counting jar.\n",
    "\n",
    "```python\n",
    "for p in model.parameters():\n",
    "  total += p.numel()\n",
    "```\n",
    "\n",
    "**Counting Loop (for p in model.parameters())**\n",
    "Now, imagine your neural network model is like having several bags of marbles:\n",
    "- Each layer (Linear) is like a separate bag\n",
    "- Each bag contains different numbers of marbles (parameters)\n",
    "- `p.numel()` is like counting the marbles in each bag\n",
    "- `total += p.numel()` is like taking the count from each bag and adding it to our jar\n",
    "\n",
    "Let's break down what happens in each iteration:\n",
    "1. The loop looks at one bag (layer) at a time\n",
    "2. Counts all the marbles (parameters) in that bag\n",
    "3. Adds that number to our running total in the jar\n",
    "\n",
    "This is important because in deep learning, we need to know how many parameters (or \"marbles\") our model has to:\n",
    "- Understand how complex our model is\n",
    "- Figure out how much memory it will need\n",
    "- Know how much computing power we'll need to train it"
   ]
  },
  {
   "cell_type": "markdown",
   "metadata": {},
   "source": [
    "### Exercise\n",
    "\n",
    "### Manipulating the capacity of a network\n",
    "In this exercise, you will practice creating neural networks with different capacities. The capacity of a network reflects the number of parameters in said network. To help you, a calculate_capacity() function has been implemented, as follows:\n",
    "\n",
    "```python\n",
    "def calculate_capacity(model):\n",
    "  total = 0\n",
    "  for p in model.parameters():\n",
    "    total += p.numel()\n",
    "  return total\n",
    "```\n",
    "\n",
    "This function returns the number of parameters in your model.\n",
    "\n",
    "The dataset you are training this network on has n_features features and n_classes classes. The torch.nn package has been imported as nn."
   ]
  },
  {
   "cell_type": "markdown",
   "metadata": {},
   "source": [
    "### Instructions (1/2)\n",
    "- Create a neural network with exactly three linear layers and less than 120 parameters, which takes n_features as inputs and outputs n_classes."
   ]
  },
  {
   "cell_type": "code",
   "execution_count": 122,
   "metadata": {},
   "outputs": [
    {
     "data": {
      "text/plain": [
       "118"
      ]
     },
     "execution_count": 122,
     "metadata": {},
     "output_type": "execute_result"
    }
   ],
   "source": [
    "import torch\n",
    "import torch.nn as nn\n",
    "\n",
    "n_features = 8\n",
    "n_classes = 2\n",
    "\n",
    "input_tensor = torch.Tensor([[3, 4, 6, 2, 3, 6, 8, 9]])\n",
    "\n",
    "# Create a neural network with less than 120 parameters\n",
    "model = nn.Sequential(nn.Linear(n_features, 8),\n",
    "                      nn.Linear(8, 4),\n",
    "                      nn.Linear(4, n_classes))\n",
    "output = model(input_tensor)\n",
    "\n",
    "total = 0\n",
    "\n",
    "# Calculate the number of parameters in the model\n",
    "for p in model.parameters():\n",
    "  total += p.numel()\n",
    "\n",
    "total"
   ]
  },
  {
   "cell_type": "markdown",
   "metadata": {},
   "source": [
    "### Instructions (2/2)\n",
    "\n",
    "- Create a neural network with exactly four linear layers and more than 120 parameters, which takes n_features as inputs and outputs n_classes."
   ]
  },
  {
   "cell_type": "code",
   "execution_count": 123,
   "metadata": {},
   "outputs": [
    {
     "data": {
      "text/plain": [
       "124"
      ]
     },
     "execution_count": 123,
     "metadata": {},
     "output_type": "execute_result"
    }
   ],
   "source": [
    "import torch\n",
    "import torch.nn as nn\n",
    "\n",
    "n_features = 8\n",
    "n_classes = 2\n",
    "\n",
    "input_tensor = torch.Tensor([[3, 4, 6, 2, 3, 6, 8, 9]])\n",
    "\n",
    "# Create a neural network with less than 120 parameters\n",
    "model = nn.Sequential(nn.Linear(n_features, 8),\n",
    "                      nn.Linear(8, 4),\n",
    "                      nn.Linear(4, 2),\n",
    "                      nn.Linear(2, n_classes))\n",
    "output = model(input_tensor)\n",
    "\n",
    "total = 0\n",
    "\n",
    "# Calculate the number of parameters in the model\n",
    "for p in model.parameters():\n",
    "  total += p.numel()\n",
    "\n",
    "total"
   ]
  },
  {
   "cell_type": "markdown",
   "metadata": {},
   "source": [
    "## Learning Rate and Momentum with SGD Optimizer (Stocahastic Gradient Descent)\n",
    "----\n",
    "\n",
    "Let me explain Stochastic Gradient Descent (SGD) optimization using a fun skiing analogy that will tie everything together!\n",
    "\n",
    "## The Skiing Adventure of SGD\n",
    "\n",
    "Imagine you're skiing down a mountain trying to reach the lowest point (which represents finding the minimum loss/error in our model). You're not a professional skier, so you need to make decisions about how to get down safely and efficiently.\n",
    "\n",
    "## Learning Rate: Your Skiing Speed\n",
    "\n",
    "The learning rate is like how fast you decide to ski down the mountain. Think of it as your speed control:\n",
    "\n",
    "**Too High Learning Rate (Skiing Too Fast)**\n",
    "- Like zooming down at dangerous speeds\n",
    "- You might overshoot the bottom and crash\n",
    "- In ML terms: Your model might miss the optimal solution and bounce around, never finding the best weights\n",
    "- You might even \"fly off the mountain\" (model weights explode)\n",
    "![Impact of the learning rate - high learning rate](../images/Impact-of-the-learning-rate-high-learning-rate.png)\n",
    "\n",
    "**Too Low Learning Rate (Skiing Too Slowly)**\n",
    "- Like inching down the mountain at a snail's pace\n",
    "- You'll eventually get there, but it'll take forever\n",
    "- In ML terms: Training will be very slow and might get stuck in small dips before reaching the bottom\n",
    "![Impact of the learning rate - small learning rate](../images/Impact-of-the-learning-rate-small-learning-rate.png)\n",
    "\n",
    "**Just Right Learning Rate**\n",
    "- Moving at a controlled, steady pace\n",
    "- Allows you to adjust your path while making good progress\n",
    "- Typical values often start around 0.01 or 0.001\n",
    "\n",
    "Let's continue with our skiing analogy to understand momentum in more detail!\n",
    "\n",
    "## Understanding Momentum: The Skiing Inertia\n",
    "\n",
    "Imagine you're wearing a heavy backpack while skiing. The weight of this backpack represents momentum - it affects how you move down the slope and how easily you can change direction.\n",
    "\n",
    "## High Momentum (0.9 - 0.99)\n",
    "\n",
    "**What It's Like**\n",
    "- Like skiing with a heavy backpack\n",
    "- Once you start moving in a direction, it's harder to make sudden turns\n",
    "- You maintain more of your previous direction and speed\n",
    "\n",
    "![high-momentum](../images/high-momentum.png)\n",
    "\n",
    "**Benefits**\n",
    "- Helps push through flat spots or small uphill sections\n",
    "- Like using your built-up speed to glide over small bumps\n",
    "- Great for escaping shallow valleys (local minima) in the loss landscape\n",
    "- Training tends to be more stable and faster overall\n",
    "\n",
    "**Potential Problems**\n",
    "- Might overshoot the bottom of the slope\n",
    "- Harder to make precise adjustments\n",
    "- Like trying to stop quickly with a heavy backpack - it takes longer\n",
    "- Could miss the optimal solution if it requires sharp turns\n",
    "\n",
    "## Low Momentum (0.1 - 0.5)\n",
    "\n",
    "**What It's Like**\n",
    "- Like skiing with a light backpack\n",
    "- Easier to make quick direction changes\n",
    "- Less influenced by your previous movement\n",
    "\n",
    "![low-momentum](../images/low-momentum.png)\n",
    "\n",
    "**Benefits**\n",
    "- More precise control over your movement\n",
    "- Better for navigating tricky, winding paths\n",
    "- Useful when you need to make careful adjustments\n",
    "- Good for fine-tuning near the optimal solution\n",
    "\n",
    "**Potential Problems**\n",
    "- Might get stuck in small dips\n",
    "- Progress can be slower\n",
    "- Like stopping at every little bump in the snow\n",
    "- More susceptible to getting trapped in local minima\n",
    "\n",
    "## Zero Momentum (0.0)\n",
    "\n",
    "**What It's Like**\n",
    "- Like skiing with no backpack at all\n",
    "- Each move is independent of previous moves\n",
    "- Pure SGD without any memory of past updates\n",
    "\n",
    "**When to Use It**\n",
    "- When you want very precise control\n",
    "- In simple landscapes with clear paths to the minimum\n",
    "- When dealing with noisy or unpredictable data\n",
    "\n",
    "## Real-World Scenarios\n",
    "\n",
    "**High Momentum Works Best When**\n",
    "- Your loss landscape is like a smooth, wide valley\n",
    "- You're dealing with consistent patterns in your data\n",
    "- You want faster convergence\n",
    "- Like skiing down a long, gentle slope where you can use your momentum effectively\n",
    "\n",
    "**Low Momentum Works Best When**\n",
    "- Your loss landscape is tricky with lots of turns\n",
    "- You're near the optimal solution and need precision\n",
    "- Your data has lots of variation\n",
    "- Like skiing through a technical course where you need careful control\n",
    "\n",
    "## Common Momentum Values and Their Effects\n",
    "\n",
    "| Momentum Value | Behavior | Best Used For |\n",
    "|----------------|----------|---------------|\n",
    "| 0.9 | Standard choice, good balance | Most training scenarios |\n",
    "| 0.99 | Very aggressive momentum | Large datasets, smooth loss landscapes |\n",
    "| 0.5 | Moderate momentum | When high momentum is too aggressive |\n",
    "| 0.0 | No momentum | Precise control needed |\n",
    "\n",
    "## Practical Tips\n",
    "\n",
    "**Starting Out**\n",
    "- Begin with momentum = 0.9\n",
    "- Like starting on a gentler slope before tackling steeper ones\n",
    "- Observe how your model behaves\n",
    "\n",
    "**Adjusting Momentum**\n",
    "- If training is unstable: Lower the momentum\n",
    "- If training is too slow: Try increasing momentum\n",
    "- If close to convergence: Consider reducing momentum for fine-tuning\n",
    "\n",
    "**Warning Signs**\n",
    "- If your loss is bouncing wildly: Your momentum might be too high\n",
    "- If progress is very slow: Your momentum might be too low\n",
    "- If you're overshooting repeatedly: Consider reducing both momentum and learning rate\n",
    "\n",
    "Remember: Just like a skilled skier adjusts their technique based on the terrain, you'll need to adjust momentum based on your model's behavior and your training data's characteristics. The goal is to find that sweet spot where you're making steady progress while maintaining control!\n",
    "\n",
    "## Finding the Right Balance\n",
    "\n",
    "Just like a good skier needs to balance speed and control, you need to tune both parameters:\n",
    "\n",
    "**Good Combination**\n",
    "- Moderate learning rate with some momentum\n",
    "- Like skiing with controlled speed while maintaining smooth motion\n",
    "- Typically momentum values between 0.9 to 0.99 work well\n",
    "\n",
    "**Bad Combinations to Avoid**\n",
    "- High learning rate + high momentum = Like skiing too fast with no ability to stop\n",
    "- Very low learning rate + no momentum = Like being stuck in deep snow\n",
    "- High momentum + very low learning rate = Like trying to push through molasses\n",
    "\n",
    "## Real-World Impact\n",
    "\n",
    "**When It Works Well**\n",
    "- Your model learns smoothly and consistently\n",
    "- Training progress shows steady improvement\n",
    "- Like a perfect ski run where you maintain control while making good progress\n",
    "\n",
    "**When It Goes Wrong**\n",
    "- Loss might oscillate wildly (too high learning rate)\n",
    "- Training might take forever (too low learning rate)\n",
    "- Model might get stuck (no momentum when needed)\n",
    "- Like either tumbling down the mountain or never making it to the bottom\n",
    "\n",
    "Remember: Just like becoming a good skier requires practice and adjusting your technique based on the slope, finding the right learning rate and momentum often requires experimentation based on your specific model and data. Start conservative (lower learning rate, moderate momentum) and adjust based on how your model performs!"
   ]
  },
  {
   "cell_type": "markdown",
   "metadata": {},
   "source": [
    "### Exercise\n",
    "\n",
    "Experimenting with learning rate\n",
    "In this exercise, your goal is to find the optimal learning rate such that the optimizer can find the minimum of the non-convex function x^4 + x^3 - 5x^2 in ten steps.\n",
    "\n",
    "You will experiment with three different learning rate values. For this problem, try learning rate values between 0.001 to 0.1.\n",
    "\n",
    "You are provided with the optimize_and_plot() function that takes the learning rate for the first argument. This function will run 10 steps of the SGD optimizer and display the results."
   ]
  },
  {
   "cell_type": "markdown",
   "metadata": {},
   "source": [
    "### Instructions (1/3)\n",
    "\n",
    "- Try a small learning rate value such that the optimizer isn't able to get past the first minimum on the right."
   ]
  },
  {
   "cell_type": "code",
   "execution_count": 124,
   "metadata": {},
   "outputs": [],
   "source": [
    "# # Try a first learning rate value\n",
    "# lr0 = 0.005\n",
    "# optimize_and_plot(lr=lr0)"
   ]
  },
  {
   "cell_type": "markdown",
   "metadata": {},
   "source": [
    "Instructions (1/3)\n",
    "\n",
    "- Try a large learning rate value such that the optimizer skips past the global minimum at -2."
   ]
  },
  {
   "cell_type": "markdown",
   "metadata": {},
   "source": [
    "### Exercise\n",
    "\n",
    "### Experimenting with momentum\n",
    "\n",
    "- In this exercise, your goal is to find the optimal momentum such that the optimizer can find the minimum of the following non-convex function in 20 steps. You will experiment with two different momentum values. For this problem, the learning rate is fixed at 0.01.\n",
    "\n",
    "You are provided with the optimize_and_plot() function that takes the learning rate for the first argument. This function will run 20 steps of the SGD optimizer and display the results."
   ]
  },
  {
   "cell_type": "markdown",
   "metadata": {},
   "source": []
  },
  {
   "cell_type": "markdown",
   "metadata": {},
   "source": [
    "### Instructions (1/2)\n",
    "\n",
    "- Try a first value for the momentum such that the optimizer gets stuck in the first minimum."
   ]
  },
  {
   "cell_type": "code",
   "execution_count": 125,
   "metadata": {},
   "outputs": [],
   "source": [
    "# # Try a first value for momentum\n",
    "# mom0 = 0\n",
    "# optimize_and_plot(momentum=mom0)"
   ]
  },
  {
   "cell_type": "markdown",
   "metadata": {},
   "source": [
    "### Instructions (2/2)\n",
    "\n",
    "- Try a second value for momentum such that the optimizer finds the global optimum."
   ]
  },
  {
   "cell_type": "code",
   "execution_count": null,
   "metadata": {},
   "outputs": [],
   "source": []
  },
  {
   "cell_type": "markdown",
   "metadata": {},
   "source": [
    "## Layer Initialization and Transfer Learning\n",
    "-----\n",
    "\n",
    "## Layer Initialization\n",
    "\n",
    "Think of layer initialization like setting up a new video game character. When you start a new game, your character needs some basic stats (like strength, speed, health) to begin their journey.\n",
    "\n",
    "**Why It's Important**\n",
    "Imagine trying to play a video game where your character starts with completely random abilities - sometimes super strong, sometimes super weak. That would make the game very hard to play! Similarly, in neural networks, if we don't initialize our layers properly, our model might:\n",
    "- Learn too slowly (like a character that's too weak to fight)\n",
    "- Get stuck (like a character that can't move)\n",
    "- Explode in values (like a character with infinite power that breaks the game)\n",
    "\n",
    "## Transfer Learning\n",
    "\n",
    "Now, this is like having an experienced older sibling teach you how to play a video game!\n",
    "\n",
    "**The Basic Concept**\n",
    "Imagine your sibling has already mastered a racing game. When you want to learn a new, similar racing game:\n",
    "- They can teach you the basic controls\n",
    "- Show you how to take turns\n",
    "- Explain racing strategies\n",
    "- You just need to learn the specific details of the new game\n",
    "\n",
    "**How It Works in Machine Learning**\n",
    "1. **Pre-trained Model**: This is like your experienced sibling (the model that already knows a lot)\n",
    "2. **New Task**: This is your new game (the problem you want to solve)\n",
    "3. **Transfer**: You take what the pre-trained model knows and adapt it to your needs\n",
    "\n",
    "**Real-world Example**\n",
    "Let's say you want to build a model that recognizes different types of cars. Instead of starting from scratch:\n",
    "1. Take a model that's already trained to recognize objects in general\n",
    "2. Keep its basic knowledge (like understanding edges, shapes, colors)\n",
    "3. Teach it specifically about cars\n",
    "\n",
    "This is much faster and more efficient than starting from zero - just like learning a game from an experienced player is faster than figuring everything out by yourself!\n",
    "\n",
    "**When to Use It**\n",
    "Transfer learning is super helpful when:\n",
    "- You don't have lots of data (like getting game tips when you're just starting)\n",
    "- You want to save training time (like skipping the basic tutorials)\n",
    "- Your task is similar to something that's already been solved (like moving from one racing game to another)\n",
    "\n",
    "Remember, just like in video games, you don't always have to start from level 1. Sometimes, you can build upon what others have already learned to reach your goals faster and more efficiently!"
   ]
  },
  {
   "cell_type": "markdown",
   "metadata": {},
   "source": [
    "## Fine-tuning process\n",
    "You are training a model on a new dataset and you think you can use a fine-tuning approach instead of training from scratch (i.e., training from randomly initialized weights).\n",
    "\n",
    "To fine-tune a model on a new task, you need to follow a certain number of steps that are listed here.\n",
    "\n",
    "- **Step 1:** Find a model trained on a similar task\n",
    "- **Step 2:** Load pre-trained weights\n",
    "- **Step 3:** Freeze (or not) some of the layers in the model\n",
    "- **Step 4:** Train with a smaller learning rate\n",
    "- **Step 5:** Look at the loss values and see if the learning rate needs to be adjusted"
   ]
  },
  {
   "cell_type": "markdown",
   "metadata": {},
   "source": [
    "### Code example of Freezing layers of a model\n",
    "You are about to fine-tune a model on a new task after loading pre-trained weights. The model contains three linear layers. However, because your dataset is small, you only want to train the last linear layer of this model and freeze the first two linear layers.\n",
    "\n",
    "The model has already been created and exists under the variable model. You will be using the named_parameters method of the model to list the parameters of the model. Each parameter is described by a name. This name is a string with the following naming convention: x.name where x is the index of the layer.\n",
    "\n",
    "Remember that a linear layer has two parameters: the weight and the bias. We are going to freeze the parameters of the first two layers of this model.\n",
    "\n",
    "```python\n",
    "for name, param in model.named_parameters():\n",
    "  \n",
    "    # Check if the parameters belong to the first layer\n",
    "    if name == '0.weight' or name == '0.bias':\n",
    "   \n",
    "        # Freeze the parameters\n",
    "        param.requires_grad = False\n",
    "        \n",
    "    # Check if the parameters belong to the second layer\n",
    "    if name == '1.weight' or name == '1.bias':\n",
    "      \n",
    "        # Freeze the parameters\n",
    "        param.requires_grad = False\n",
    "```\n",
    "\n",
    "> Choosing which layer to freeze is an empirical process but a good rule of thumb is to start with the first layers and go deeper."
   ]
  },
  {
   "cell_type": "markdown",
   "metadata": {},
   "source": [
    "## Exercise\n",
    "\n",
    "### Layer initialization\n",
    "The initialization of the weights of a neural network has been the focus of researchers for many years. When training a network, the method used to initialize the weights has a direct impact on the final performance of the network.\n",
    "\n",
    "As a machine learning practitioner, you should be able to experiment with different initialization strategies. In this exercise, you are creating a small neural network made of two layers and you are deciding to initialize each layer's weights with the uniform method.\n",
    "\n",
    "### Instructions\n",
    "\n",
    "- For each layer (```layer0```and ```layer1```), use the uniform initialization method to initialize the weights.\n"
   ]
  },
  {
   "cell_type": "code",
   "execution_count": 126,
   "metadata": {},
   "outputs": [],
   "source": [
    "import torch\n",
    "import torch.nn as nn\n",
    "\n",
    "layer0 = nn.Linear(16, 32)\n",
    "layer1 = nn.Linear(32, 64)\n",
    "\n",
    "# Use uniform initialization for layer0 and layer1 weights\n",
    "nn.init.uniform_(layer0.weight)\n",
    "nn.init.uniform_(layer1.weight)\n",
    "\n",
    "model = nn.Sequential(layer0, layer1)"
   ]
  },
  {
   "cell_type": "markdown",
   "metadata": {},
   "source": [
    "# Loading Data\n",
    "-----"
   ]
  },
  {
   "cell_type": "code",
   "execution_count": 127,
   "metadata": {},
   "outputs": [
    {
     "name": "stdout",
     "output_type": "stream",
     "text": [
      "  animal_name  hair  feathers  eggs  milk  predator  fins  legs  tail  type\n",
      "0     skimmer     0         1     1     0         1     0     2     1     2\n",
      "1        gull     0         1     1     0         1     0     2     1     2\n",
      "2    seahorse     0         0     1     0         0     1     0     1     4\n",
      "3     tuatara     0         0     1     0         1     0     4     1     3\n",
      "4    squirrel     1         0     0     1         0     0     2     1     1\n"
     ]
    }
   ],
   "source": [
    "import pandas as pd\n",
    "import numpy as np\n",
    "\n",
    "# Create a dictionary with the data\n",
    "animals = {\n",
    "    'animal_name': ['skimmer', 'gull', 'seahorse', 'tuatara', 'squirrel'],\n",
    "    'hair': [0, 0, 0, 0, 1],\n",
    "    'feathers': [1, 1, 0, 0, 0],\n",
    "    'eggs': [1, 1, 1, 1, 0],\n",
    "    'milk': [0, 0, 0, 0, 1],\n",
    "    'predator': [1, 1, 0, 1, 0],\n",
    "    'fins': [0, 0, 1, 0, 0],\n",
    "    'legs': [2, 2, 0, 4, 2],\n",
    "    'tail': [1, 1, 1, 1, 1],\n",
    "    'type': [2, 2, 4, 3, 1]\n",
    "}\n",
    "\n",
    "# Create a DataFrame from the dictionary\n",
    "animals = pd.DataFrame(animals)\n",
    "\n",
    "# Display the DataFrame\n",
    "print(animals)\n",
    "\n"
   ]
  },
  {
   "cell_type": "code",
   "execution_count": 128,
   "metadata": {},
   "outputs": [
    {
     "name": "stdout",
     "output_type": "stream",
     "text": [
      "[[0 1 1 0 1 0 2 1]\n",
      " [0 1 1 0 1 0 2 1]\n",
      " [0 0 1 0 0 1 0 1]\n",
      " [0 0 1 0 1 0 4 1]\n",
      " [1 0 0 1 0 0 2 1]]\n"
     ]
    }
   ],
   "source": [
    "# Define input features\n",
    "features = animals.iloc[:, 1:-1]\n",
    "X = features.to_numpy()\n",
    "print(X)"
   ]
  },
  {
   "cell_type": "code",
   "execution_count": 129,
   "metadata": {},
   "outputs": [],
   "source": [
    "# Define target features (ground truth)\n",
    "target = animals.iloc[:, -1]\n",
    "y = target.to_numpy()"
   ]
  },
  {
   "cell_type": "code",
   "execution_count": 130,
   "metadata": {},
   "outputs": [
    {
     "name": "stdout",
     "output_type": "stream",
     "text": [
      "input sample: tensor([0., 1., 1., 0., 1., 0., 2., 1.])\n",
      "label_sample: tensor(2.)\n"
     ]
    }
   ],
   "source": [
    "import torch\n",
    "from torch.utils.data import TensorDataset\n",
    "\n",
    "# Instantiate dataset class\n",
    "dataset = TensorDataset(torch.tensor(X).float(), torch.tensor(y).float())\n",
    "\n",
    "# Access an individual sample\n",
    "sample = dataset[0]\n",
    "input_sample, label_sample = sample\n",
    "print('input sample:', input_sample)\n",
    "print('label_sample:', label_sample)"
   ]
  },
  {
   "cell_type": "code",
   "execution_count": 131,
   "metadata": {},
   "outputs": [
    {
     "name": "stdout",
     "output_type": "stream",
     "text": [
      "batch inputs tensor([[0., 0., 1., 0., 0., 1., 0., 1.],\n",
      "        [0., 1., 1., 0., 1., 0., 2., 1.]])\n",
      "batch labels tensor([4., 2.])\n",
      "batch inputs tensor([[0., 0., 1., 0., 1., 0., 4., 1.],\n",
      "        [1., 0., 0., 1., 0., 0., 2., 1.]])\n",
      "batch labels tensor([3., 1.])\n",
      "batch inputs tensor([[0., 1., 1., 0., 1., 0., 2., 1.]])\n",
      "batch labels tensor([2.])\n"
     ]
    }
   ],
   "source": [
    "from torch.utils.data import DataLoader\n",
    "\n",
    "batch_size = 2\n",
    "shuffle = True\n",
    "\n",
    "# Create a DataLoader\n",
    "dataloader = DataLoader(dataset, batch_size=batch_size, shuffle=shuffle)\n",
    "\n",
    "# Iterate over the dataloader\n",
    "for batch_inputs, batch_labels in dataloader:\n",
    "    print('batch inputs', batch_inputs)\n",
    "    print('batch labels', batch_labels)"
   ]
  },
  {
   "cell_type": "markdown",
   "metadata": {},
   "source": [
    "## Exercise\n",
    "----\n",
    "\n",
    "Using the TensorDataset class\n",
    "In practice, loading your data into a PyTorch dataset will be one of the first steps you take in order to create and train a neural network with PyTorch.\n",
    "\n",
    "The TensorDataset class is very helpful when your dataset can be loaded directly as a NumPy array. Recall that TensorDataset() can take one or more NumPy arrays as input.\n",
    "\n",
    "In this exercise, you'll practice creating a PyTorch dataset using the TensorDataset class.\n",
    "\n",
    "torch and numpy have already been imported for you, along with the TensorDataset class.\n",
    "\n",
    "### Instructions\n",
    "- Convert the NumPy arrays provided to PyTorch tensors.\n",
    "- Create a TensorDataset using the torch_features and the torch_target tensors provided (in this order).\n",
    "- Return the last element of the dataset."
   ]
  },
  {
   "cell_type": "code",
   "execution_count": 132,
   "metadata": {},
   "outputs": [
    {
     "name": "stdout",
     "output_type": "stream",
     "text": [
      "(tensor([0.2829, 0.2822, 0.0770, 0.3640, 0.9413, 0.4576, 0.7154, 0.0449],\n",
      "       dtype=torch.float64), tensor([0.4225], dtype=torch.float64))\n"
     ]
    }
   ],
   "source": [
    "import numpy as np\n",
    "import torch\n",
    "from torch.utils.data import TensorDataset\n",
    "\n",
    "np_features = np.array(np.random.rand(12, 8))\n",
    "np_target = np.array(np.random.rand(12, 1))\n",
    "\n",
    "# Convert arrays to PyTorch tensors\n",
    "torch_features = torch.tensor(np_features)\n",
    "torch_target = torch.tensor(np_target)\n",
    "\n",
    "# Create a TensorDataset from two tensors\n",
    "dataset = TensorDataset(torch_features, torch_target)\n",
    "\n",
    "# Return the last element of this dataset\n",
    "print(dataset[-1])"
   ]
  },
  {
   "cell_type": "markdown",
   "metadata": {},
   "source": [
    "## Exercise\n",
    "\n",
    "### From data loading to running a forward pass\n",
    "In this exercise, you'll create a PyTorch DataLoader from a pandas DataFrame and call a model on this dataset. Specifically, you'll run a forward pass on a neural network. You'll continue working with fully connected neural networks, as you have done so far.\n",
    "\n",
    "You'll begin by subsetting a loaded DataFrame called dataframe, converting features and targets NumPy arrays, and converting to PyTorch tensors in order to create a PyTorch dataset.\n",
    "\n",
    "This dataset can be loaded into a PyTorch DataLoader, batched, shuffled, and used to run a forward pass on a custom fully connected neural network.\n",
    "\n",
    "NumPy as np, pandas as pd, torch, TensorDataset(), and DataLoader() have been imported for you"
   ]
  },
  {
   "cell_type": "markdown",
   "metadata": {},
   "source": [
    "### Instructions (1/3)\n",
    "\n",
    "Extract the features (ph, Sulfate, Conductivity, Organic_carbon) and target (Potability) values and load them into the appropriate tensors to represent features and targets.\n",
    "Use both tensors to create a PyTorch dataset using the dataset class that's quickest to use when tensors don't require any additional preprocessing."
   ]
  },
  {
   "cell_type": "code",
   "execution_count": 133,
   "metadata": {},
   "outputs": [],
   "source": [
    "# # Load the different columns into two PyTorch tensors\n",
    "# features = torch.tensor(dataframe[['ph', 'Sulfate', 'Conductivity', 'Organic_carbon']].to_numpy()).float()\n",
    "# target = torch.tensor(dataframe['Potability'].to_numpy()).float()\n",
    "\n",
    "# # Create a dataset from the two generated tensors\n",
    "# dataset = TensorDataset(features, target)"
   ]
  },
  {
   "cell_type": "markdown",
   "metadata": {},
   "source": [
    "### Instructions 2/3\n",
    "\n",
    "Create a PyTorch DataLoader from the created TensorDataset; this DataLoader should use a batch_size of two and shuffle the dataset."
   ]
  },
  {
   "cell_type": "code",
   "execution_count": 134,
   "metadata": {},
   "outputs": [],
   "source": [
    "# # Load the different columns into two PyTorch tensors\n",
    "# features = torch.tensor(dataframe[['ph', 'Sulfate', 'Conductivity', 'Organic_carbon']].to_numpy()).float()\n",
    "# target = torch.tensor(dataframe['Potability'].to_numpy()).float()\n",
    "\n",
    "# # Create a dataset from the two generated tensors\n",
    "# dataset = TensorDataset(features, target)\n",
    "\n",
    "# # Create a dataloader using the above dataset\n",
    "# dataloader = DataLoader(dataset, batch_size=2, shuffle=True)\n",
    "# x, y = next(iter(dataloader))"
   ]
  },
  {
   "cell_type": "markdown",
   "metadata": {},
   "source": [
    "### Instructions 3/3\n",
    "\n",
    "- Implement a small, fully connected neural network using exactly two linear layers and the nn.Sequential() API, where the final output size is 1."
   ]
  },
  {
   "cell_type": "code",
   "execution_count": 135,
   "metadata": {},
   "outputs": [],
   "source": [
    "# # Load the different columns into two PyTorch tensors\n",
    "# features = torch.tensor(dataframe[['ph', 'Sulfate', 'Conductivity', 'Organic_carbon']].to_numpy()).float()\n",
    "# target = torch.tensor(dataframe['Potability'].to_numpy()).float()\n",
    "\n",
    "# # Create a dataset from the two generated tensors\n",
    "# dataset = TensorDataset(features, target)\n",
    "\n",
    "# # Create a dataloader using the above dataset\n",
    "# dataloader = DataLoader(dataset, shuffle=True, batch_size=2)\n",
    "# x, y = next(iter(dataloader))\n",
    "\n",
    "# # Create a model using the nn.Sequential API\n",
    "# model = nn.Sequential(\n",
    "#   nn.Linear(4, 16), \n",
    "#   nn.Linear(16, 1)\n",
    "# )\n",
    "\n",
    "# output = model(features)\n",
    "# print(output)"
   ]
  },
  {
   "cell_type": "markdown",
   "metadata": {},
   "source": [
    "# Model Evaluation\n",
    "---\n",
    "\n",
    "## The Three Stages of Learning: Training, Validation and Testing\n",
    "\n",
    "Imagine you have a big cookbook with 100 recipes. Here's how we'd split them to teach Tommy:\n",
    "\n",
    "**Training Set (60-80 recipes)**\n",
    "Think of this as Tommy's practice kitchen. This is where he learns and makes mistakes:\n",
    "- Tommy practices cooking these recipes over and over\n",
    "- He learns the basic techniques\n",
    "- He burns some dishes and overcooks others\n",
    "- Just like how our ML model learns patterns from training data\n",
    "\n",
    "**Validation Set (10-20 recipes)**\n",
    "This is like having Tommy cook for his family before the big restaurant opening:\n",
    "- His family gives feedback on the taste\n",
    "- He adjusts his cooking style based on their comments\n",
    "- He might realize he's using too much salt or cooking too fast\n",
    "- Similarly, we use validation data to fine-tune our model's settings (hyperparameters)\n",
    "\n",
    "**Test Set (10-20 recipes)**\n",
    "This is like Tommy's final exam in cooking school:\n",
    "- These are completely new recipes he's never seen\n",
    "- He can't get feedback or make adjustments\n",
    "- This shows if he truly learned to cook or just memorized recipes\n",
    "- Just like how we use test data to see if our model can handle new, unseen data\n",
    "\n",
    "## Why This Split is Important\n",
    "\n",
    "Think of it this way:\n",
    "- If Tommy only practiced on the same 3 recipes (too little training data), he wouldn't become a good chef\n",
    "- If he got feedback on his final exam recipes (using test data for training), it wouldn't be a fair test\n",
    "- If his family gave him too many tips during practice (overfitting to validation data), he might not learn to cook independently\n",
    "\n",
    "## Real-World Example\n",
    "\n",
    "Just like how a student can't prepare for an exam using the actual test questions, our model shouldn't see the test data during training. Imagine if Tommy memorized exactly how to make a chocolate cake, but then the test asks him to make a vanilla cake - he needs to understand the general principles of baking, not just memorize one recipe.\n",
    "\n",
    "This three-way split helps ensure our model (like Tommy) truly learns to generalize and can handle new, unseen situations rather than just memorizing the training data."
   ]
  },
  {
   "cell_type": "markdown",
   "metadata": {},
   "source": [
    "## Exercise\n",
    "\n",
    "### Writing the evaluation loop\n",
    "In this exercise, you will practice writing the evaluation loop. Recall that the evaluation loop is similar to the training loop, except that you will not perform the gradient calculation and the optimizer step.\n",
    "\n",
    "The model has already been defined for you, along with the object validationloader, which is a dataset.\n",
    "\n",
    "### Instructions (1/2)\n",
    "- Set the model to evaluation mode.\n",
    "- Sum the current batch loss to the validation_loss variable."
   ]
  },
  {
   "cell_type": "code",
   "execution_count": 136,
   "metadata": {},
   "outputs": [],
   "source": [
    "# # Set the model to evaluation mode\n",
    "# model.eval()\n",
    "# validation_loss = 0.0\n",
    "\n",
    "# with torch.no_grad():\n",
    "  \n",
    "#   for data in validationloader:\n",
    "    \n",
    "#       outputs = model(data[0])\n",
    "#       loss = criterion(outputs, data[1])\n",
    "      \n",
    "#       # Sum the current loss to the validation_loss variable\n",
    "#       validation_loss += loss.item()"
   ]
  },
  {
   "cell_type": "markdown",
   "metadata": {},
   "source": [
    "### Instructions (2/2)\n",
    "\n",
    "- Calculate the mean loss value for the epoch.\n",
    "- Set the model back to training mode."
   ]
  },
  {
   "cell_type": "code",
   "execution_count": 137,
   "metadata": {},
   "outputs": [],
   "source": [
    "# # Set the model to evaluation mode\n",
    "# model.eval()\n",
    "# validation_loss = 0.0\n",
    "\n",
    "# with torch.no_grad():\n",
    "  \n",
    "#   for data in validationloader:\n",
    "    \n",
    "#       outputs = model(data[0])\n",
    "#       loss = criterion(outputs, data[1])\n",
    "      \n",
    "#       # Sum the current loss to the validation_loss variable\n",
    "#       validation_loss += loss.item()\n",
    "      \n",
    "# # Calculate the mean loss value\n",
    "# validation_loss_epoch = validation_loss / len(validationloader)\n",
    "# print(validation_loss_epoch)\n",
    "\n",
    "# # Set the model back to training mode\n",
    "# model.train()\n"
   ]
  },
  {
   "cell_type": "markdown",
   "metadata": {},
   "source": [
    "## Exercise\n",
    "\n",
    "### Calculating accuracy using torchmetrics\n",
    "In addition to the losses, you should also be keeping track of the accuracy during training. By doing so, you will be able to select the epoch when the model performed the best.\n",
    "\n",
    "In this exercise, you will practice using the torchmetrics package to calculate the accuracy. You will be using a sample of the facemask dataset. This dataset contains three different classes. The plot_errors function will display samples where the model predictions do not match the ground truth. Performing such error analysis will help you understand your model failure modes.\n",
    "\n",
    "The torchmetrics package is already imported. The model outputs are the probabilities returned by a softmax as the last step of the model. The labels tensor contains the labels as one-hot encoded vectors."
   ]
  },
  {
   "cell_type": "markdown",
   "metadata": {},
   "source": [
    "### Instructions (1/2)\n",
    "\n",
    "- Create an accuracy metric for a \"multiclass\" problem with three classes.\n",
    "- Calculate the accuracy for each batch of the dataloader."
   ]
  },
  {
   "cell_type": "code",
   "execution_count": 138,
   "metadata": {},
   "outputs": [],
   "source": [
    "# # Create accuracy metric using torch metrics\n",
    "# metric = torchmetrics.Accuracy(task=\"multiclass\", num_classes=3)\n",
    "# for data in dataloader:\n",
    "#     features, labels = data\n",
    "#     outputs = model(features)\n",
    "    \n",
    "#     # Calculate accuracy over the batch\n",
    "#     acc = metric(outputs, labels.argmax(dim=-1))\n",
    "# acc"
   ]
  },
  {
   "cell_type": "markdown",
   "metadata": {},
   "source": [
    "### Instructions (2/2)\n",
    "\n",
    "- Calculate accuracy for the epoch.\n",
    "- Reset the metric for the next epoch."
   ]
  },
  {
   "cell_type": "code",
   "execution_count": 139,
   "metadata": {},
   "outputs": [],
   "source": [
    "# # Create accuracy metric using torch metrics\n",
    "# metric = torchmetrics.Accuracy(task=\"multiclass\", num_classes=3)\n",
    "# for data in dataloader:\n",
    "#     features, labels = data\n",
    "#     outputs = model(features)\n",
    "    \n",
    "#     # Calculate accuracy over the batch\n",
    "#     acc = metric(outputs, labels.argmax(dim=-1))\n",
    "    \n",
    "# # Calculate accuracy over the whole epoch\n",
    "# acc = metric.compute()\n",
    "\n",
    "# # Reset the metric for the next epoch (training or validation)\n",
    "# metric.reset()\n",
    "# plot_errors(model, dataloader)"
   ]
  },
  {
   "cell_type": "markdown",
   "metadata": {},
   "source": [
    "# Overfitting and Underfitting Models\n",
    "---\n",
    "\n",
    "## The Story of Three Students\n",
    "\n",
    "Imagine three students preparing for their math tests: Mary (who overfits), Johnny (who underfits), and Sarah (who gets it just right).\n",
    "\n",
    "## Overfitting: Meet Mary the Memorizer\n",
    "\n",
    "Think of Mary as a student who **memorizes everything** without understanding the concepts:\n",
    "- She memorizes every single math problem from the textbook\n",
    "- She knows that \"2 + 3 = 5\" and \"4 + 6 = 10\"\n",
    "- But when she sees \"7 + 8\", she's stuck because she never memorized this exact problem\n",
    "\n",
    "This is like overfitting in machine learning where:\n",
    "- The model learns the training data too perfectly\n",
    "- It memorizes even the noise and random fluctuations\n",
    "- It performs great on known data but fails on new problems\n",
    "- It's like having a GPS that only knows one route to school and gets lost if there's road construction\n",
    "\n",
    "**Signs of Overfitting:**\n",
    "- Perfect performance on training data\n",
    "- Poor performance on new data\n",
    "- The model becomes too complex and specific\n",
    "\n",
    "## Underfitting: Meet Johnny the Generalizer\n",
    "\n",
    "Johnny represents the opposite problem:\n",
    "- He only learns that \"numbers can be added together\"\n",
    "- He doesn't practice enough problems\n",
    "- He doesn't learn any specific techniques or patterns\n",
    "\n",
    "This is like underfitting in machine learning where:\n",
    "- The model is too simple\n",
    "- It doesn't capture important patterns in the data\n",
    "- It performs poorly on both training and new data\n",
    "- It's like having a GPS that only knows \"go north\" or \"go south\" without understanding streets\n",
    "\n",
    "**Signs of Underfitting:**\n",
    "- Poor performance on training data\n",
    "- Poor performance on new data\n",
    "- The model is too simple and misses obvious patterns\n",
    "\n",
    "## Just Right: Meet Sarah the Smart Learner\n",
    "\n",
    "Sarah represents the perfect balance:\n",
    "- She learns the rules and patterns of math\n",
    "- She understands why \"2 + 3 = 5\"\n",
    "- She can solve new problems using her understanding\n",
    "- She practices enough but doesn't just memorize\n",
    "\n",
    "This is the sweet spot we want in machine learning where:\n",
    "- The model learns genuine patterns\n",
    "- It ignores random noise in the data\n",
    "- It performs well on both old and new data\n",
    "- It's like having a GPS that knows multiple routes and can handle detours\n",
    "\n",
    "## Why It Matters\n",
    "\n",
    "Finding the right balance is crucial because:\n",
    "- Too simple (underfitting) = missing important patterns\n",
    "- Too complex (overfitting) = learning noise instead of patterns\n",
    "- Just right = model that can generalize and make good predictions"
   ]
  },
  {
   "cell_type": "markdown",
   "metadata": {},
   "source": [
    "# Fighting Overfitting\n",
    "----\n",
    "\n",
    "Here are three of the many techniques for fighting overfitting:\n",
    "\n",
    "## Weight Decay: The \"Lazy Student\" Method\n",
    "\n",
    "Think of weight decay like forcing a student to take the simplest path to solve a problem:\n",
    "- Without weight decay: A student writes a 10-page solution for a simple addition problem\n",
    "- With weight decay: The student is encouraged to write shorter, simpler solutions\n",
    "\n",
    "It's like telling the model: \"Don't try too hard!\"\n",
    "- It penalizes large weights in the model\n",
    "- Makes the model prefer simpler solutions\n",
    "- Like Occam's Razor: the simplest solution is often the best\n",
    "\n",
    "## Data Augmentation: The \"Study Buddy\" Method\n",
    "\n",
    "Imagine you're studying for a test:\n",
    "- Original way: You only study the exact questions in your textbook\n",
    "- Augmented way: You study similar questions with slight variations\n",
    "\n",
    "It's like showing your model the same picture in different ways:\n",
    "- Flip the image\n",
    "- Rotate it slightly\n",
    "- Change the brightness\n",
    "- Add some noise\n",
    "\n",
    "Real-world example:\n",
    "- Teaching a model to recognize cats\n",
    "- Original: Show one picture of a cat\n",
    "- Augmented: Show the same cat upside down, slightly blurry, in different lighting\n",
    "- This helps the model learn \"cat-ness\" rather than memorizing specific cat pictures\n",
    "\n",
    "## Dropout: The \"Pop Quiz\" Method\n",
    "\n",
    "Think of dropout like randomly covering parts of your textbook while studying:\n",
    "- Each time you practice, some random words are covered up\n",
    "- You learn to understand the full concept without relying on specific words\n",
    "\n",
    "It's like training your brain to work with incomplete information:\n",
    "- During training, randomly turn off some neurons\n",
    "- Forces the model to not rely too heavily on any single feature\n",
    "- Like having multiple backup plans\n",
    "\n",
    "Real-world example:\n",
    "- Learning to recognize a car\n",
    "- Without dropout: The model might only look for wheels\n",
    "- With dropout: The model learns to look for wheels, windows, doors, etc.\n",
    "- If it can't see the wheels, it can still recognize the car from other features\n",
    "\n",
    "## Why Use All Three?\n",
    "\n",
    "Think of it like training for a sport:\n",
    "- **Weight Decay**: Don't over-complicate your moves\n",
    "- **Data Augmentation**: Practice in different conditions (rain, sun, wind)\n",
    "- **Dropout**: Train different muscle groups so you don't rely on just one\n",
    "\n",
    "Together, these techniques help your model become more robust and generalize better, just like a well-rounded athlete who can perform in any condition!"
   ]
  },
  {
   "cell_type": "markdown",
   "metadata": {},
   "source": [
    "## Exercise\n",
    "---\n",
    "\n",
    "### Experimenting with dropout\n",
    "The dropout layer randomly zeroes out elements of the input tensor. Doing so helps fight overfitting. In this exercise, you'll create a small neural network with one linear layer, one dropout layer, and one activation function.\n",
    "\n",
    "The torch.nn package has already been imported as nn. An input_tensor of dimensions \n",
    " has been created for you."
   ]
  },
  {
   "cell_type": "markdown",
   "metadata": {},
   "source": [
    "### Instructions (1/2)\n",
    "\n",
    "- Create a small neural network with one linear layer, one ReLU function, and one dropout layer, in that order.\n",
    "The model should take input_tensor as input and return an output of size 16."
   ]
  },
  {
   "cell_type": "code",
   "execution_count": 140,
   "metadata": {},
   "outputs": [],
   "source": [
    "# # Create a small neural network\n",
    "# model = nn.Sequential(nn.Linear(3072, 16),\n",
    "#                       nn.ReLU(),\n",
    "#                       nn.Dropout())\n",
    "# model(input_tensor)"
   ]
  },
  {
   "cell_type": "markdown",
   "metadata": {},
   "source": [
    "### Instructions (2/2)\n",
    "\n",
    "- Using the same neural network, set the probability of zeroing out elements in the dropout layer to 0.8."
   ]
  },
  {
   "cell_type": "code",
   "execution_count": 141,
   "metadata": {},
   "outputs": [],
   "source": [
    "# # Using the same model, set the dropout probability to 0.8\n",
    "# model = nn.Sequential(nn.Linear(3072, 16),\n",
    "#                       nn.ReLU(),\n",
    "#                       nn.Dropout(p=0.8))\n",
    "# model(input_tensor)"
   ]
  },
  {
   "cell_type": "markdown",
   "metadata": {},
   "source": [
    "# Improving Model Performance\n",
    "----\n",
    "\n",
    "## Step 1: Establish a Baseline\n",
    "Think of this like learning to play basketball. Before trying fancy moves, you want to make sure you can make basic shots when practicing alone. In machine learning:\n",
    "- First, let your model practice extensively on your training data\n",
    "- If it can't perform well even on the practice data, it's like not being able to make shots in an empty gym\n",
    "- This tells you if your \"player\" (model) has the basic ability to learn the task\n",
    "\n",
    "## Step 2: Reduce Overfitting\n",
    "This is like making sure you can play well in real games, not just practice. Imagine a player who only knows how to shoot from one specific spot - they're \"overfitting\" to that position:\n",
    "- Add \"training rules\" (regularization) to make your model more flexible\n",
    "- Watch how it performs in \"practice games\" (validation set)\n",
    "- Make sure it can handle new situations it hasn't seen before\n",
    "\n",
    "## Step 3: Optimize Hyperparameters\n",
    "This is like fine-tuning your training routine:\n",
    "- Adjusting how fast you learn (learning rate)\n",
    "- Deciding how many practice shots to take before getting feedback (batch size)\n",
    "- Choosing the right training equipment and exercises (network architecture)\n",
    "\n",
    "The Continuous Process:\n",
    "Just like in sports, getting better is an ongoing process. You might need to:\n",
    "- Practice with more different situations (more training data)\n",
    "- Try different training techniques (different model architectures)\n",
    "- Keep track of your progress and adjust your training plan\n",
    "\n",
    "Remember: The key is to first make sure your model can learn at all, then make sure it can handle new situations, and finally fine-tune it to perform its best. It's like learning any skill - start with the basics, make sure you can apply them broadly, and then work on perfecting your technique."
   ]
  },
  {
   "cell_type": "markdown",
   "metadata": {},
   "source": [
    "## Exercise\n",
    "---\n",
    "\n",
    "### Implementing random search\n",
    "Hyperparameter search is a computationally costly approach to experiment with different hyperparameter values. However, it can lead to performance improvements. In this exercise, you will implement a random search algorithm.\n",
    "\n",
    "You will randomly sample 10 values of the learning rate and momentum from the uniform distribution. To do so, you will use the np.random.uniform() function.\n",
    "\n",
    "The numpy package has already been imported as np."
   ]
  },
  {
   "cell_type": "markdown",
   "metadata": {},
   "source": [
    "### Instructions\n",
    "\n",
    "- Randomly sample a learning rate factor between 2 and 4 so that the learning rate (lr) is bounded between 10^-2 and 10^-4.\n",
    "- Randomly sample a momentum between 0.85 and 0.99."
   ]
  },
  {
   "cell_type": "code",
   "execution_count": 142,
   "metadata": {},
   "outputs": [],
   "source": [
    "# values = []\n",
    "# for idx in range(10):\n",
    "#     # Randomly sample a learning rate factor 2 and 4\n",
    "#     factor = np.random.uniform(2, 4)\n",
    "#     lr = 10 ** -factor\n",
    "    \n",
    "#     # Randomly sample a momentum between 0.85 and 0.99\n",
    "#     momentum = np.random.uniform(0.85, 0.99)\n",
    "    \n",
    "#     values.append((lr, momentum))"
   ]
  }
 ],
 "metadata": {
  "kernelspec": {
   "display_name": "Python 3",
   "language": "python",
   "name": "python3"
  },
  "language_info": {
   "codemirror_mode": {
    "name": "ipython",
    "version": 3
   },
   "file_extension": ".py",
   "mimetype": "text/x-python",
   "name": "python",
   "nbconvert_exporter": "python",
   "pygments_lexer": "ipython3",
   "version": "3.11.10"
  }
 },
 "nbformat": 4,
 "nbformat_minor": 2
}
