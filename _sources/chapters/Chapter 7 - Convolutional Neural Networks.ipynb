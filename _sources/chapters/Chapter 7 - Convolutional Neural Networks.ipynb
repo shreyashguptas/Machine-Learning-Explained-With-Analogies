{
 "cells": [
  {
   "cell_type": "markdown",
   "metadata": {},
   "source": [
    "# Chapter 7 - Convolutional Neural Networks  \n",
    "---"
   ]
  }
 ],
 "metadata": {
  "language_info": {
   "name": "python"
  }
 },
 "nbformat": 4,
 "nbformat_minor": 2
}
