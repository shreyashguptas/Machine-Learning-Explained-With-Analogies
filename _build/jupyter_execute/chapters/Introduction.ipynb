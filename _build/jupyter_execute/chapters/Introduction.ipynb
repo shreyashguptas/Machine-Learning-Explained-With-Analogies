{
 "cells": [
  {
   "cell_type": "markdown",
   "metadata": {},
   "source": [
    "# Introduction\n"
   ]
  },
  {
   "cell_type": "markdown",
   "metadata": {},
   "source": [
    "Important information-\n",
    "\n",
    "There are 2 ways to run the code in the Notebooks\n",
    "\n",
    "1. If you are new to Python environment in JupterNotebooks then you can do the following:\n",
    "\n",
    "You will see an icon that looks like the image you see below at the top right of some notebooks. If you click on it then it will clone the notebook in Google Colab. What that allows you to do is that you can run the code in the Cloud without having to setup any Python environment. (This is what I recommend you do if you are new to Python)\n",
    "![open-in-colab-icon](../images/open-in-colab-icon.png)\n",
    "\n",
    "2. If you are already familiar with Python environment in JupyterNotebooks then you can do the following:\n",
    "\n",
    "Clone the repository and run the notebook in your local machine. \n",
    "\n",
    "```bash\n",
    "git clone https://github.com/shreyashguptas/Machine-Learning-for-Dummies.git\n",
    "```\n",
    "\n",
    "Install the dependencies using the following command:\n",
    "\n",
    "```bash\n",
    "pip install -r requirements.txt\n",
    "```"
   ]
  },
  {
   "cell_type": "code",
   "execution_count": null,
   "metadata": {},
   "outputs": [],
   "source": []
  }
 ],
 "metadata": {
  "language_info": {
   "name": "python"
  }
 },
 "nbformat": 4,
 "nbformat_minor": 2
}